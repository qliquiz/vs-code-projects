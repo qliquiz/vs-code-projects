{
 "cells": [
  {
   "cell_type": "markdown",
   "metadata": {
    "id": "2KyV7wJNo2sW"
   },
   "source": [
    "\n",
    "# Получение данных через API \n",
    "  \n"
   ]
  },
  {
   "cell_type": "markdown",
   "metadata": {
    "id": "SeCMasJpo2sf"
   },
   "source": [
    "# Зачем нужны API"
   ]
  },
  {
   "cell_type": "markdown",
   "metadata": {
    "id": "d81lxZcoo2sg"
   },
   "source": [
    "`API` для аналитика это инструмент связи с данными, которые находятся внутри сторонних сайтов. Через API мы передаем команды-запросы, а взамен получаем ответ. Все API разные, но есть общие подходы\n",
    "\n",
    "- у большинства API есть адрес, по которому нужно отправить запрос\n",
    "- в документации указаны определенные требования к структуре запроса\n",
    "\n",
    "### Почему нельзя просто парсить сайты?\n",
    "\n",
    "Вообще-то можно, но если вы напишете робота, который прорывается через визуальный интерфейс и создает лишнюю нагрузку на сайт, то вас просто забанят.\n",
    "\n",
    "`Визуальный интерфейс` сайтов для пользователей — он нагружен разнообразными стилями и картинками, похоже на парадный вход с красивым и внимательным консьержем, который физически не успеет обслужить роботизированный поток из тысяч запросов. \n",
    "\n",
    "`API` —  интерфейс для программ — как служебный вход, который снимает лишнюю нагрузку с парадного, созданного для пользователей, он не такой красивый, зато шире.\n",
    "\n",
    "Хотя и этот служебный вход не резиновый и API прописывают `ограничения` запросов, которые можно создавать. Часто, например, владельцы API просят нас ограничить частоту обращений к сервису или объем получаемых данных.\n",
    "\n",
    "### Открытые и закрытые API\n",
    "\n",
    "`Открытые` — общедоступные (например, API Мирового банка). [Список публичных API](https://github.com/public-apis/public-apis)\n",
    "\n",
    "`Закрытые` — требующие разнообразных процедур авторизации (например, API Google Drive). \n",
    "\n",
    "### Что можно получить от API сайтов?\n",
    "\n",
    "Чаще всего возвращают данные в формате `json`, с которым мы и будем работать, или реже `xml`. \n",
    "\n",
    "\n"
   ]
  },
  {
   "cell_type": "markdown",
   "metadata": {
    "id": "jF1C5hrio2sh"
   },
   "source": [
    "## JSON\n",
    "\n",
    "`JSON` — текстовый формат данных из `JavaScript`, но многие среды программирования имеют возможность читать и генерировать JSON, в том числе Python.\n",
    "\n",
    "Работая с модулем `requests`, мы будем использовать метод `json()`, который преобразует ответ в объект класса `dict`. \n",
    "\n",
    "Подробнее: https://python-scripts.com/json"
   ]
  },
  {
   "cell_type": "markdown",
   "metadata": {
    "id": "g64p-luIo2sh"
   },
   "source": [
    "___\n",
    "\n",
    "## Открытые API\n",
    "\n",
    "### Задача 1 \n",
    "\n",
    "Получаем время восхода и заката по координатам\n",
    "\n",
    "#### Как это сделать?\n",
    "\n",
    "1. Изучить документацию API сайта `https://sunrise-sunset.org/`\n",
    "2. Получить координаты города в нужном формате\n",
    "3. Отправить запрос сайту `https://sunrise-sunset.org/`, на котором есть нужные нам данные\n",
    "4. Получить ответ "
   ]
  },
  {
   "cell_type": "markdown",
   "metadata": {
    "id": "lsOJrP9oo2si"
   },
   "source": [
    "__Идем на сайт, ищем страницу с документацией `API` [`https://sunrise-sunset.org/`](https://sunrise-sunset.org/) и находим ответы на главные вопросы__\n",
    "\n",
    "1. Какие параметры, то есть данные, мы можем получить через этот API\n",
    "2. В каком формате этот API принимает запрос\n",
    "3. В каком формате возвращается ответ"
   ]
  },
  {
   "cell_type": "markdown",
   "metadata": {
    "id": "JgPRlTGvo2si"
   },
   "source": [
    "__Мы поняли, что на вход нам понадобятся:__\n",
    "\n",
    "1. две координаты в формате `float`\n",
    "2. дата, данные за которую мы хотим получить"
   ]
  },
  {
   "cell_type": "markdown",
   "metadata": {
    "id": "81A6_KWHo2sj"
   },
   "source": [
    "### 1. Получим координаты\n",
    "Библиотека `geocoder` поможет нам получить координаты по географическому названию."
   ]
  },
  {
   "cell_type": "code",
   "execution_count": 1,
   "metadata": {
    "id": "zw0nLYoOo2sk",
    "scrolled": true
   },
   "outputs": [
    {
     "name": "stdout",
     "output_type": "stream",
     "text": [
      "Collecting geocoder\n",
      "  Downloading geocoder-1.38.1-py2.py3-none-any.whl (98 kB)\n",
      "     -------------------------------------- 98.6/98.6 kB 631.1 kB/s eta 0:00:00\n",
      "Collecting ratelim\n",
      "  Downloading ratelim-0.1.6-py2.py3-none-any.whl (4.0 kB)\n",
      "Requirement already satisfied: click in d:\\anaconda\\lib\\site-packages (from geocoder) (8.0.4)\n",
      "Requirement already satisfied: future in d:\\anaconda\\lib\\site-packages (from geocoder) (0.18.3)\n",
      "Requirement already satisfied: six in d:\\anaconda\\lib\\site-packages (from geocoder) (1.16.0)\n",
      "Requirement already satisfied: requests in d:\\anaconda\\lib\\site-packages (from geocoder) (2.28.1)\n",
      "Requirement already satisfied: colorama in d:\\anaconda\\lib\\site-packages (from click->geocoder) (0.4.6)\n",
      "Requirement already satisfied: decorator in d:\\anaconda\\lib\\site-packages (from ratelim->geocoder) (5.1.1)\n",
      "Requirement already satisfied: charset-normalizer<3,>=2 in d:\\anaconda\\lib\\site-packages (from requests->geocoder) (2.0.4)\n",
      "Requirement already satisfied: certifi>=2017.4.17 in d:\\anaconda\\lib\\site-packages (from requests->geocoder) (2022.12.7)\n",
      "Requirement already satisfied: urllib3<1.27,>=1.21.1 in d:\\anaconda\\lib\\site-packages (from requests->geocoder) (1.26.14)\n",
      "Requirement already satisfied: idna<4,>=2.5 in d:\\anaconda\\lib\\site-packages (from requests->geocoder) (3.4)\n",
      "Installing collected packages: ratelim, geocoder\n",
      "Successfully installed geocoder-1.38.1 ratelim-0.1.6\n"
     ]
    }
   ],
   "source": [
    "#!pip install geocoder\n",
    "\n",
    "import sys\n",
    "!{sys.executable} -m pip install geocoder \n"
   ]
  },
  {
   "cell_type": "code",
   "execution_count": null,
   "metadata": {
    "id": "cJ3iealYo2sm",
    "scrolled": true
   },
   "outputs": [],
   "source": [
    "import geocoder"
   ]
  },
  {
   "cell_type": "markdown",
   "metadata": {
    "id": "IgZMbBY4o2sm"
   },
   "source": [
    "Из нее возьмем функцию `.arcgis()`, которая возвращает всю информацию о переданном географическом названии."
   ]
  },
  {
   "cell_type": "code",
   "execution_count": 7,
   "metadata": {
    "id": "kvGkmNnOo2sn",
    "scrolled": true
   },
   "outputs": [
    {
     "name": "stdout",
     "output_type": "stream",
     "text": [
      "{'address': 'Иркутск, Иркутская область', 'bbox': {'northeast': [52.46625, 104.41285], 'southwest': [52.13425, 104.08085]}, 'confidence': 1, 'lat': 52.30025000000006, 'lng': 104.24685000000005, 'ok': True, 'quality': 'Locality', 'raw': {'name': 'Иркутск, Иркутская область', 'extent': {'xmin': 104.08085, 'ymin': 52.13425, 'xmax': 104.41285, 'ymax': 52.46625}, 'feature': {'geometry': {'x': 104.24685000000005, 'y': 52.30025000000006}, 'attributes': {'Score': 100, 'Addr_Type': 'Locality'}}}, 'score': 100, 'status': 'OK'}\n"
     ]
    }
   ],
   "source": [
    "city = geocoder.arcgis('Иркутск')\n",
    "print(city.json)"
   ]
  },
  {
   "cell_type": "markdown",
   "metadata": {
    "id": "13XQZOJzo2sn"
   },
   "source": [
    "Широта — это `lat`, долгота — `lng`.\n",
    "\n",
    "Создадим список, в который положим наши широту и долготу. Но вообще, мы можем сохранить их в любом удобном формате."
   ]
  },
  {
   "cell_type": "code",
   "execution_count": 8,
   "metadata": {
    "id": "HeE_XQovo2sn",
    "scrolled": true
   },
   "outputs": [
    {
     "name": "stdout",
     "output_type": "stream",
     "text": [
      "[52.30025000000006, 104.24685000000005]\n"
     ]
    }
   ],
   "source": [
    "crdnt = [city.json['lat'], city.json['lng']]\n",
    "print(crdnt)"
   ]
  },
  {
   "cell_type": "markdown",
   "metadata": {
    "id": "Or2v-_hDo2so"
   },
   "source": [
    "### 2. Создадим запрос "
   ]
  },
  {
   "cell_type": "markdown",
   "metadata": {
    "id": "2DxusPEIo2so"
   },
   "source": [
    "`requests` — библиотека инструментов для обмена информацией по интернету. С ее помощью можно легко и быстро подключаться к сайтам, забирать оттуда информацию, отправлять туда какую-то информацию (например, логин и пароль для авторизации). В работе аналитика эта библиотека чаще всего используется для получения данных из сети.\n",
    "\n",
    "Для этого используется функция `get()`, которая получает на вход URL API и параметры запроса в формате словаря\n",
    "\n",
    "Снова идем в документацию: https://sunrise-sunset.org/api, чтобы \n",
    "\n",
    "1. вспомнить, через какую ссылку мы обращаемся к нему\n",
    "2. вспомнить имена параметров"
   ]
  },
  {
   "cell_type": "code",
   "execution_count": 9,
   "metadata": {
    "id": "I9UUqsgao2so",
    "scrolled": true
   },
   "outputs": [],
   "source": [
    "import requests"
   ]
  },
  {
   "cell_type": "code",
   "execution_count": 11,
   "metadata": {
    "id": "7hCsEjI5o2so"
   },
   "outputs": [
    {
     "data": {
      "text/plain": [
       "<Response [200]>"
      ]
     },
     "execution_count": 11,
     "metadata": {},
     "output_type": "execute_result"
    }
   ],
   "source": [
    "URL = 'https://api.sunrise-sunset.org/json'\n",
    "params = {\n",
    "    'lat': crdnt[0], # берем первый элемент из списка\n",
    "    'lng': crdnt[1], # берем второй элемент из списка\n",
    "    'date': '2024-03-22'\n",
    "}\n",
    "\n",
    "sun_r_s = requests.get(URL, params=params) # requests за нас формирует конечный URL из параметров\n",
    "\n",
    "sun_r_s"
   ]
  },
  {
   "cell_type": "markdown",
   "metadata": {
    "id": "-kCQvg2Io2sp"
   },
   "source": [
    "`<Response [200]>` - означает, что все верно. \n",
    "\n",
    "Чтобы посмотреть, что внутри ответа, используем метод `.content` "
   ]
  },
  {
   "cell_type": "code",
   "execution_count": 12,
   "metadata": {
    "id": "_Xx4d5Gao2sp",
    "scrolled": true
   },
   "outputs": [
    {
     "data": {
      "text/plain": [
       "b'{\"results\":{\"sunrise\":\"10:58:20 PM\",\"sunset\":\"11:21:17 AM\",\"solar_noon\":\"5:09:48 AM\",\"day_length\":\"12:22:57\",\"civil_twilight_begin\":\"10:26:06 PM\",\"civil_twilight_end\":\"11:53:31 AM\",\"nautical_twilight_begin\":\"9:45:44 PM\",\"nautical_twilight_end\":\"12:33:53 PM\",\"astronomical_twilight_begin\":\"9:03:24 PM\",\"astronomical_twilight_end\":\"1:16:13 PM\"},\"status\":\"OK\",\"tzid\":\"UTC\"}'"
      ]
     },
     "execution_count": 12,
     "metadata": {},
     "output_type": "execute_result"
    }
   ],
   "source": [
    "sun_r_s.content"
   ]
  },
  {
   "cell_type": "markdown",
   "metadata": {
    "id": "gT-r3fGIo2sp"
   },
   "source": [
    "Мы получили строку в формате `JSON`. Ее можно преобразовать в словарь методом `.json` и после этого обращаться к различным полям."
   ]
  },
  {
   "cell_type": "code",
   "execution_count": 13,
   "metadata": {
    "id": "nvwL0gvuo2sp",
    "scrolled": true
   },
   "outputs": [
    {
     "data": {
      "text/plain": [
       "{'results': {'sunrise': '10:58:20 PM',\n",
       "  'sunset': '11:21:17 AM',\n",
       "  'solar_noon': '5:09:48 AM',\n",
       "  'day_length': '12:22:57',\n",
       "  'civil_twilight_begin': '10:26:06 PM',\n",
       "  'civil_twilight_end': '11:53:31 AM',\n",
       "  'nautical_twilight_begin': '9:45:44 PM',\n",
       "  'nautical_twilight_end': '12:33:53 PM',\n",
       "  'astronomical_twilight_begin': '9:03:24 PM',\n",
       "  'astronomical_twilight_end': '1:16:13 PM'},\n",
       " 'status': 'OK',\n",
       " 'tzid': 'UTC'}"
      ]
     },
     "execution_count": 13,
     "metadata": {},
     "output_type": "execute_result"
    }
   ],
   "source": [
    "sun_r_s_dict = sun_r_s.json()\n",
    "sun_r_s_dict"
   ]
  },
  {
   "cell_type": "code",
   "execution_count": 14,
   "metadata": {},
   "outputs": [
    {
     "data": {
      "text/plain": [
       "dict"
      ]
     },
     "execution_count": 14,
     "metadata": {},
     "output_type": "execute_result"
    }
   ],
   "source": [
    "type(sun_r_s_dict)"
   ]
  },
  {
   "cell_type": "markdown",
   "metadata": {
    "id": "qLE7YiT5o2sq"
   },
   "source": [
    "Например, получим продолжительность дня, обратившись к значению внутреннего словаря по ключу `'day_length'`"
   ]
  },
  {
   "cell_type": "code",
   "execution_count": 15,
   "metadata": {
    "id": "Y-ZIvCQ3o2sq",
    "scrolled": true
   },
   "outputs": [
    {
     "data": {
      "text/plain": [
       "'12:22:57'"
      ]
     },
     "execution_count": 15,
     "metadata": {},
     "output_type": "execute_result"
    }
   ],
   "source": [
    "sun_r_s_dict['results']['day_length']"
   ]
  },
  {
   "cell_type": "markdown",
   "metadata": {
    "id": "ux_qzuFto2sq"
   },
   "source": [
    "Если нужно, преобразуем ответ в датафрейм, передав методу `pd.DataFrame` внутренний словарь"
   ]
  },
  {
   "cell_type": "code",
   "execution_count": 16,
   "metadata": {
    "id": "Jso5EFbIo2sq",
    "outputId": "d8055f27-5c82-4c2d-d5f9-c263874a68a6",
    "scrolled": true
   },
   "outputs": [
    {
     "data": {
      "text/html": [
       "<div>\n",
       "<style scoped>\n",
       "    .dataframe tbody tr th:only-of-type {\n",
       "        vertical-align: middle;\n",
       "    }\n",
       "\n",
       "    .dataframe tbody tr th {\n",
       "        vertical-align: top;\n",
       "    }\n",
       "\n",
       "    .dataframe thead th {\n",
       "        text-align: right;\n",
       "    }\n",
       "</style>\n",
       "<table border=\"1\" class=\"dataframe\">\n",
       "  <thead>\n",
       "    <tr style=\"text-align: right;\">\n",
       "      <th></th>\n",
       "      <th>sunrise</th>\n",
       "      <th>sunset</th>\n",
       "      <th>solar_noon</th>\n",
       "      <th>day_length</th>\n",
       "      <th>civil_twilight_begin</th>\n",
       "      <th>civil_twilight_end</th>\n",
       "      <th>nautical_twilight_begin</th>\n",
       "      <th>nautical_twilight_end</th>\n",
       "      <th>astronomical_twilight_begin</th>\n",
       "      <th>astronomical_twilight_end</th>\n",
       "    </tr>\n",
       "  </thead>\n",
       "  <tbody>\n",
       "    <tr>\n",
       "      <th>0</th>\n",
       "      <td>10:58:20 PM</td>\n",
       "      <td>11:21:17 AM</td>\n",
       "      <td>5:09:48 AM</td>\n",
       "      <td>12:22:57</td>\n",
       "      <td>10:26:06 PM</td>\n",
       "      <td>11:53:31 AM</td>\n",
       "      <td>9:45:44 PM</td>\n",
       "      <td>12:33:53 PM</td>\n",
       "      <td>9:03:24 PM</td>\n",
       "      <td>1:16:13 PM</td>\n",
       "    </tr>\n",
       "  </tbody>\n",
       "</table>\n",
       "</div>"
      ],
      "text/plain": [
       "       sunrise       sunset  solar_noon day_length civil_twilight_begin  \\\n",
       "0  10:58:20 PM  11:21:17 AM  5:09:48 AM   12:22:57          10:26:06 PM   \n",
       "\n",
       "  civil_twilight_end nautical_twilight_begin nautical_twilight_end  \\\n",
       "0        11:53:31 AM              9:45:44 PM           12:33:53 PM   \n",
       "\n",
       "  astronomical_twilight_begin astronomical_twilight_end  \n",
       "0                  9:03:24 PM                1:16:13 PM  "
      ]
     },
     "execution_count": 16,
     "metadata": {},
     "output_type": "execute_result"
    }
   ],
   "source": [
    "import pandas as pd\n",
    "\n",
    "pd.DataFrame([sun_r_s.json()['results']])"
   ]
  },
  {
   "cell_type": "markdown",
   "metadata": {
    "id": "AvL3cULHo2sr"
   },
   "source": [
    "___\n",
    "\n",
    "## API World Bank"
   ]
  },
  {
   "cell_type": "markdown",
   "metadata": {
    "id": "A3Sb1QPko2sr"
   },
   "source": [
    "Рассмотрим работу с `API Мирового Банка`. Там мы найдем гигабайты данных, описывающих разные экономические и социальные показатели сотен стран. \n",
    "\n",
    "Это тоже открытый API. Перейдем на сайт [документации](https://datahelpdesk.worldbank.org/knowledgebase/topics/125589) к нему. Документация гораздо больше и сложнее. Разберемся, как она устроена."
   ]
  },
  {
   "cell_type": "markdown",
   "metadata": {
    "id": "a063SkeHo2sr"
   },
   "source": [
    "### Best Practices"
   ]
  },
  {
   "cell_type": "markdown",
   "metadata": {
    "id": "_H85qtBUo2sr"
   },
   "source": [
    "Тут перечислены разделы с информацией о том, как следует пользоваться API. Первым делом идем в раздел [Development Best Practices](https://datahelpdesk.worldbank.org/knowledgebase/articles/902064-development-best-practices). Тут собраны рекомендации по использованию API и ограничения. Хороший тон — соблюдать их. Несоблюдение таких рекомендаций может привести к поломке сервиса и бану вашего IP.\n",
    "\n",
    "__Две главные рекомендации:__\n",
    "1. Кэшировать информацию — сохранять результаты предыдущих запросов, чтобы не ходить в API без необходимости несколько раз.\n",
    "2. Не делать повторных запросов при задержке ответа. Если при задержке ответа в связи с загрузкой сервера запрашивать сервис еще и еще, это приведет только к еще большей нагрузке на сервер."
   ]
  },
  {
   "cell_type": "markdown",
   "metadata": {
    "id": "8xwes2qzo2sr"
   },
   "source": [
    "### Описание интерфейса"
   ]
  },
  {
   "cell_type": "markdown",
   "metadata": {
    "id": "tcZ0oWrYo2ss"
   },
   "source": [
    "Далее рассмотрим, какие ошибки может выдавать API, чтобы понимать, как их обрабатывать."
   ]
  },
  {
   "cell_type": "markdown",
   "metadata": {
    "id": "Kf0w3u_co2ss"
   },
   "source": [
    "<table><tbody><tr><th class=\"wysiwyg-tmp-selected-cell\">Error Code</th><th>Response Code</th><th>Description</th></tr><tr><td>105</td><td>503 'Service currently unavailable'</td><td>'The requested service is temporarily unavailable.'</td></tr><tr><td>110</td><td>404 'API Version \"XXX\" not found.'</td><td>'The requested API version was not found.'</td></tr><tr><td>111</td><td>404 'Format \"XXX\" not found.'</td><td>'The requested response format was not found.'</td></tr><tr><td>112</td><td>404 'Method \"XXX\" not found.'</td><td>'The requested method was not found.'</td></tr><tr><td>115</td><td>404 'Missing required parameter'</td><td>'Parameters which are required have not been sent.'</td></tr><tr><td>120</td><td>404 'Parameter \"XXX\" has an invalid value.'</td><td>'The provided parameter value is not valid.'</td></tr><tr><td>140</td><td>400 'Endpoint “XXX” not found.’</td><td>'The requested endpoint was not found'</td></tr><tr><td>150</td><td>400 'Language with ISO2 code: \"XX\" is not yet supported in the API'</td><td>'Response requested in an unsupported language.'</td></tr><tr><td>160</td><td>400 ' Filtering data-set on an indicator value without indicating a date range is meaningless and is not allowed.'</td><td>'You need to indicate date-range if you want to filter by an indicator value.'</td></tr><tr><td>199</td><td>500 'Unexpected error'</td><td>'An unexpected error was encountered while processing the request.'</td></tr></tbody></table>"
   ]
  },
  {
   "cell_type": "markdown",
   "metadata": {
    "id": "t-SCm8xRo2ss"
   },
   "source": [
    "При успешном запросе обычно мы получаем желанный код 200."
   ]
  },
  {
   "cell_type": "markdown",
   "metadata": {
    "id": "snjwlW7uo2ss"
   },
   "source": [
    "### Доступ к списку показателей (индикаторов)"
   ]
  },
  {
   "cell_type": "markdown",
   "metadata": {
    "id": "EZgHh29bo2ss"
   },
   "source": [
    "Чтобы узнать какие показатели мы можем запросить, перейдем на [страницу](https://datahelpdesk.worldbank.org/knowledgebase/articles/898599-indicator-api-queries) с описанием соответствующего интерфейса.\n",
    "\n",
    "Чтобы получить данные обо всех индикаторах, мы должны запросить API по такому адресу:\n",
    "\n",
    "http://api.worldbank.org/v2/indicator\n",
    "\n",
    "Чтобы получить данные в формате JSON, надо добавить `?format=json`\n",
    "\n",
    "Скопируем в адресную строку браузера и посмотрим, что будет:\n",
    "\n",
    "http://api.worldbank.org/v2/indicator?format=json"
   ]
  },
  {
   "cell_type": "markdown",
   "metadata": {
    "id": "cJKov-olo2ss"
   },
   "source": [
    "Мы получили огромный массив какого-то текста. Посмотрим, как он будет выглядеть в виде таблиц. Документация обещает такие данные:\n",
    "\n",
    "* код\n",
    "* название\n",
    "* единицы измерения\n",
    "* ID источника\n",
    "* описание источника\n",
    "* название организации, предоставляющей данные\n",
    "* ID темы\n",
    "* название темы\n"
   ]
  },
  {
   "cell_type": "markdown",
   "metadata": {
    "id": "OQOcK-fto2ss"
   },
   "source": [
    "Часть `?format=json` — это параметры запроса. Вы можете их видеть в URL после символа `?`. Присмотритесь к ссылкам в своем браузере и, возможно, найдете там что-то интересное. \n",
    "\n",
    "`Requests` позволяет указывать параметры в виде словаря, а не приклеивать их к URL в виде текста. \n",
    "\n",
    "Для доступа к API снова воспользуемся функцией `get()` из  библиотеки `requests` и передадим ей два параметра:\n",
    "\n",
    "1. `url = http://api.worldbank.org/v2/indicator`\n",
    "2. `params = {'format':'json'}`\n",
    "\n",
    "___"
   ]
  },
  {
   "cell_type": "code",
   "execution_count": 17,
   "metadata": {
    "id": "Lx2D63Txo2st",
    "scrolled": true
   },
   "outputs": [],
   "source": [
    "import requests\n",
    "import pandas as pd"
   ]
  },
  {
   "cell_type": "code",
   "execution_count": 18,
   "metadata": {
    "id": "xaQllX4_o2st",
    "scrolled": true
   },
   "outputs": [],
   "source": [
    "INDICATORS_URL = \"http://api.worldbank.org/v2/indicator\""
   ]
  },
  {
   "cell_type": "code",
   "execution_count": 19,
   "metadata": {
    "id": "b0XcUT9qo2st",
    "scrolled": true
   },
   "outputs": [],
   "source": [
    "indicators = requests.get(url=INDICATORS_URL # ссылка на API\n",
    "                          , params={'format':'json'} # параметры запроса\n",
    "                         )"
   ]
  },
  {
   "cell_type": "markdown",
   "metadata": {
    "id": "DtKLqQ-do2su"
   },
   "source": [
    "Выведем результат."
   ]
  },
  {
   "cell_type": "code",
   "execution_count": 24,
   "metadata": {
    "id": "TjqGbzTgo2su",
    "scrolled": true
   },
   "outputs": [
    {
     "data": {
      "text/plain": [
       "<Response [200]>"
      ]
     },
     "execution_count": 24,
     "metadata": {},
     "output_type": "execute_result"
    }
   ],
   "source": [
    "indicators"
   ]
  },
  {
   "cell_type": "markdown",
   "metadata": {
    "id": "zJrj1RJEo2su"
   },
   "source": [
    "Мы не видим огромного массива текста как в браузере. Вместо этого мы видим код ответа API. И к нашему удовлетворению он равен 200, что значит, запрос получен и успешно обработан. \n",
    "\n",
    "А содержимое ответа хранится в `indicators.content`"
   ]
  },
  {
   "cell_type": "code",
   "execution_count": 25,
   "metadata": {
    "id": "KdJOmwTzo2su",
    "scrolled": true
   },
   "outputs": [
    {
     "data": {
      "text/plain": [
       "b'[{\"page\":1,\"pages\":489,\"per_page\":\"50\",\"total\":24402},[{\"id\":\"1.0.HCount.1.90usd\",\"name\":\"Poverty Headcount ($1.90 a day)\",\"unit\":\"\",\"source\":{\"id\":\"37\",\"value\":\"LAC Equity Lab\"},\"sourceNote\":\"The poverty headcount index measures the proportion of the population with daily per capita income (in 2011 PPP) below the poverty line.\",\"sourceOrganization\":\"LAC Equity Lab tabulations of SEDLAC (CEDLAS and the World Bank).\",\"topics\":[{\"id\":\"11\",\"value\":\"Poverty \"}]},{\"id\":\"1.0.HCount.2.5usd\",\"name\":\"Poverty Headcount ($2.50 a day)\",\"unit\":\"\",\"source\":{\"id\":\"37\",\"value\":\"LAC Equity Lab\"},\"sourceNote\":\"The poverty headcount index measures the proportion of the population with daily per capita income (in 2005 PPP) below the poverty line.\",\"sourceOrganization\":\"LAC Equity Lab tabulations of SEDLAC (CEDLAS and the World Bank).\",\"topics\":[{\"id\":\"11\",\"value\":\"Poverty \"}]},{\"id\":\"1.0.HCount.Mid10to50\",\"name\":\"Middle Class ($10-50 a day) Headcount\",\"unit\":\"\",\"source\":{\"id\":\"37\",\"value\":\"LAC Equity Lab\"},\"sourceNote\":\"The poverty headcount index measures the proportion of the population with daily per capita income (in 2005 PPP) below the poverty line.\",\"sourceOrganization\":\"LAC Equity Lab tabulations of SEDLAC (CEDLAS and the World Bank).\",\"topics\":[{\"id\":\"11\",\"value\":\"Poverty \"}]},{\"id\":\"1.0.HCount.Ofcl\",\"name\":\"Official Moderate Poverty Rate-National\",\"unit\":\"\",\"source\":{\"id\":\"37\",\"value\":\"LAC Equity Lab\"},\"sourceNote\":\"The poverty headcount index measures the proportion of the population with daily per capita income below the official poverty line developed by each country.\",\"sourceOrganization\":\"LAC Equity Lab tabulations of data from National Statistical Offices.\",\"topics\":[{\"id\":\"11\",\"value\":\"Poverty \"}]},{\"id\":\"1.0.HCount.Poor4uds\",\"name\":\"Poverty Headcount ($4 a day)\",\"unit\":\"\",\"source\":{\"id\":\"37\",\"value\":\"LAC Equity Lab\"},\"sourceNote\":\"The poverty headcount index measures the proportion of the population with daily per capita income (in 2005 PPP) below the poverty line.\",\"sourceOrganization\":\"LAC Equity Lab tabulations of SEDLAC (CEDLAS and the World Bank).\",\"topics\":[{\"id\":\"11\",\"value\":\"Poverty \"}]},{\"id\":\"1.0.HCount.Vul4to10\",\"name\":\"Vulnerable ($4-10 a day) Headcount\",\"unit\":\"\",\"source\":{\"id\":\"37\",\"value\":\"LAC Equity Lab\"},\"sourceNote\":\"The poverty headcount index measures the proportion of the population with daily per capita income (in 2005 PPP) below the poverty line.\",\"sourceOrganization\":\"LAC Equity Lab tabulations of SEDLAC (CEDLAS and the World Bank).\",\"topics\":[{\"id\":\"11\",\"value\":\"Poverty \"}]},{\"id\":\"1.0.PGap.1.90usd\",\"name\":\"Poverty Gap ($1.90 a day)\",\"unit\":\"\",\"source\":{\"id\":\"37\",\"value\":\"LAC Equity Lab\"},\"sourceNote\":\"The poverty gap captures the mean aggregate income or consumption shortfall relative to the poverty line across the entire population. It measures the total resources needed to bring all the poor to the level of the poverty line (averaged over the total population). \",\"sourceOrganization\":\"LAC Equity Lab tabulations of SEDLAC (CEDLAS and the World Bank).\",\"topics\":[{\"id\":\"11\",\"value\":\"Poverty \"}]},{\"id\":\"1.0.PGap.2.5usd\",\"name\":\"Poverty Gap ($2.50 a day)\",\"unit\":\"\",\"source\":{\"id\":\"37\",\"value\":\"LAC Equity Lab\"},\"sourceNote\":\"The poverty gap captures the mean aggregate income or consumption shortfall relative to the poverty line across the entire population. It measures the total resources needed to bring all the poor to the level of the poverty line (averaged over the total population). \",\"sourceOrganization\":\"LAC Equity Lab tabulations of SEDLAC (CEDLAS and the World Bank).\",\"topics\":[{\"id\":\"11\",\"value\":\"Poverty \"}]},{\"id\":\"1.0.PGap.Poor4uds\",\"name\":\"Poverty Gap ($4 a day)\",\"unit\":\"\",\"source\":{\"id\":\"37\",\"value\":\"LAC Equity Lab\"},\"sourceNote\":\"The poverty gap captures the mean aggregate income or consumption shortfall relative to the poverty line across the entire population. It measures the total resources needed to bring all the poor to the level of the poverty line (averaged over the total population). \",\"sourceOrganization\":\"LAC Equity Lab tabulations of SEDLAC (CEDLAS and the World Bank).\",\"topics\":[{\"id\":\"11\",\"value\":\"Poverty \"}]},{\"id\":\"1.0.PSev.1.90usd\",\"name\":\"Poverty Severity ($1.90 a day)\",\"unit\":\"\",\"source\":{\"id\":\"37\",\"value\":\"LAC Equity Lab\"},\"sourceNote\":\"The poverty severity index combines information on both poverty and inequality among the poor by averaging the squares of the poverty gaps relative the poverty line\",\"sourceOrganization\":\"LAC Equity Lab tabulations of SEDLAC (CEDLAS and the World Bank).\",\"topics\":[{\"id\":\"11\",\"value\":\"Poverty \"}]},{\"id\":\"1.0.PSev.2.5usd\",\"name\":\"Poverty Severity ($2.50 a day)\",\"unit\":\"\",\"source\":{\"id\":\"37\",\"value\":\"LAC Equity Lab\"},\"sourceNote\":\"The poverty severity index combines information on both poverty and inequality among the poor by averaging the squares of the poverty gaps relative the poverty line\",\"sourceOrganization\":\"LAC Equity Lab tabulations of SEDLAC (CEDLAS and the World Bank).\",\"topics\":[{\"id\":\"11\",\"value\":\"Poverty \"}]},{\"id\":\"1.0.PSev.Poor4uds\",\"name\":\"Poverty Severity ($4 a day)\",\"unit\":\"\",\"source\":{\"id\":\"37\",\"value\":\"LAC Equity Lab\"},\"sourceNote\":\"The poverty severity index combines information on both poverty and inequality among the poor by averaging the squares of the poverty gaps relative the poverty line\",\"sourceOrganization\":\"LAC Equity Lab tabulations of SEDLAC (CEDLAS and the World Bank).\",\"topics\":[{\"id\":\"11\",\"value\":\"Poverty \"}]},{\"id\":\"1.1.HCount.1.90usd\",\"name\":\"Poverty Headcount ($1.90 a day)-Rural\",\"unit\":\"\",\"source\":{\"id\":\"37\",\"value\":\"LAC Equity Lab\"},\"sourceNote\":\"The poverty headcount index measures the proportion of the population with daily per capita income (in 2011 PPP) below the poverty line.\",\"sourceOrganization\":\"LAC Equity Lab tabulations of SEDLAC (CEDLAS and the World Bank).\",\"topics\":[{\"id\":\"11\",\"value\":\"Poverty \"}]},{\"id\":\"1.1.HCount.2.5usd\",\"name\":\"Poverty Headcount ($2.50 a day)-Rural\",\"unit\":\"\",\"source\":{\"id\":\"37\",\"value\":\"LAC Equity Lab\"},\"sourceNote\":\"The poverty headcount index measures the proportion of the population with daily per capita income (in 2005 PPP) below the poverty line.\",\"sourceOrganization\":\"LAC Equity Lab tabulations of SEDLAC (CEDLAS and the World Bank).\",\"topics\":[{\"id\":\"11\",\"value\":\"Poverty \"}]},{\"id\":\"1.1.HCount.Mid10to50\",\"name\":\"Middle Class ($10-50 a day) Headcount-Rural\",\"unit\":\"\",\"source\":{\"id\":\"37\",\"value\":\"LAC Equity Lab\"},\"sourceNote\":\"The poverty headcount index measures the proportion of the population with daily per capita income (in 2005 PPP) below the poverty line.\",\"sourceOrganization\":\"LAC Equity Lab tabulations of SEDLAC (CEDLAS and the World Bank).\",\"topics\":[{\"id\":\"11\",\"value\":\"Poverty \"}]},{\"id\":\"1.1.HCount.Ofcl\",\"name\":\"Official Moderate Poverty Rate- Rural\",\"unit\":\"\",\"source\":{\"id\":\"37\",\"value\":\"LAC Equity Lab\"},\"sourceNote\":\"The poverty headcount index measures the proportion of the population with daily per capita income below the official poverty line developed by each country.\",\"sourceOrganization\":\"LAC Equity Lab tabulations of data from National Statistical Offices.\",\"topics\":[{\"id\":\"11\",\"value\":\"Poverty \"}]},{\"id\":\"1.1.HCount.Poor4uds\",\"name\":\"Poverty Headcount ($4 a day)-Rural\",\"unit\":\"\",\"source\":{\"id\":\"37\",\"value\":\"LAC Equity Lab\"},\"sourceNote\":\"The poverty headcount index measures the proportion of the population with daily per capita income (in 2005 PPP) below the poverty line.\",\"sourceOrganization\":\"LAC Equity Lab tabulations of SEDLAC (CEDLAS and the World Bank).\",\"topics\":[{\"id\":\"11\",\"value\":\"Poverty \"}]},{\"id\":\"1.1.HCount.Vul4to10\",\"name\":\"Vulnerable ($4-10 a day) Headcount-Rural\",\"unit\":\"\",\"source\":{\"id\":\"37\",\"value\":\"LAC Equity Lab\"},\"sourceNote\":\"The poverty headcount index measures the proportion of the population with daily per capita income (in 2005 PPP) below the poverty line.\",\"sourceOrganization\":\"LAC Equity Lab tabulations of SEDLAC (CEDLAS and the World Bank).\",\"topics\":[{\"id\":\"11\",\"value\":\"Poverty \"}]},{\"id\":\"1.1.PGap.1.90usd\",\"name\":\"Poverty Gap ($1.90 a day)-Rural\",\"unit\":\"\",\"source\":{\"id\":\"37\",\"value\":\"LAC Equity Lab\"},\"sourceNote\":\"The poverty gap captures the mean aggregate income or consumption shortfall relative to the poverty line across the entire population. It measures the total resources needed to bring all the poor to the level of the poverty line (averaged over the total population). \",\"sourceOrganization\":\"LAC Equity Lab tabulations of SEDLAC (CEDLAS and the World Bank).\",\"topics\":[{\"id\":\"11\",\"value\":\"Poverty \"}]},{\"id\":\"1.1.PGap.2.5usd\",\"name\":\"Poverty Gap ($2.50 a day)-Rural\",\"unit\":\"\",\"source\":{\"id\":\"37\",\"value\":\"LAC Equity Lab\"},\"sourceNote\":\"The poverty gap captures the mean aggregate income or consumption shortfall relative to the poverty line across the entire population. It measures the total resources needed to bring all the poor to the level of the poverty line (averaged over the total population). \",\"sourceOrganization\":\"LAC Equity Lab tabulations of SEDLAC (CEDLAS and the World Bank).\",\"topics\":[{\"id\":\"11\",\"value\":\"Poverty \"}]},{\"id\":\"1.1.PGap.Poor4uds\",\"name\":\"Poverty Gap ($4 a day)-Rural\",\"unit\":\"\",\"source\":{\"id\":\"37\",\"value\":\"LAC Equity Lab\"},\"sourceNote\":\"The poverty gap captures the mean aggregate income or consumption shortfall relative to the poverty line across the entire population. It measures the total resources needed to bring all the poor to the level of the poverty line (averaged over the total population). \",\"sourceOrganization\":\"LAC Equity Lab tabulations of SEDLAC (CEDLAS and the World Bank).\",\"topics\":[{\"id\":\"11\",\"value\":\"Poverty \"}]},{\"id\":\"1.1.PSev.1.90usd\",\"name\":\"Poverty Severity ($1.90 a day)-Rural\",\"unit\":\"\",\"source\":{\"id\":\"37\",\"value\":\"LAC Equity Lab\"},\"sourceNote\":\"The poverty severity index combines information on both poverty and inequality among the poor by averaging the squares of the poverty gaps relative the poverty line\",\"sourceOrganization\":\"LAC Equity Lab tabulations of SEDLAC (CEDLAS and the World Bank).\",\"topics\":[{\"id\":\"11\",\"value\":\"Poverty \"}]},{\"id\":\"1.1.PSev.2.5usd\",\"name\":\"Poverty Severity ($2.50 a day)-Rural\",\"unit\":\"\",\"source\":{\"id\":\"37\",\"value\":\"LAC Equity Lab\"},\"sourceNote\":\"The poverty severity index combines information on both poverty and inequality among the poor by averaging the squares of the poverty gaps relative the poverty line\",\"sourceOrganization\":\"LAC Equity Lab tabulations of SEDLAC (CEDLAS and the World Bank).\",\"topics\":[{\"id\":\"11\",\"value\":\"Poverty \"}]},{\"id\":\"1.1.PSev.Poor4uds\",\"name\":\"Poverty Severity ($4 a day)-Rural\",\"unit\":\"\",\"source\":{\"id\":\"37\",\"value\":\"LAC Equity Lab\"},\"sourceNote\":\"The poverty severity index combines information on both poverty and inequality among the poor by averaging the squares of the poverty gaps relative the poverty line\",\"sourceOrganization\":\"LAC Equity Lab tabulations of SEDLAC (CEDLAS and the World Bank).\",\"topics\":[{\"id\":\"11\",\"value\":\"Poverty \"}]},{\"id\":\"1.1_ACCESS.ELECTRICITY.TOT\",\"name\":\"Access to electricity (% of total population)\",\"unit\":\"\",\"source\":{\"id\":\"35\",\"value\":\"Sustainable Energy for All\"},\"sourceNote\":\"Access to electricity is the percentage of population with access to electricity.\",\"sourceOrganization\":\"World Bank Global Electrification Database 2012\",\"topics\":[]},{\"id\":\"1.1_TOTAL.FINAL.ENERGY.CONSUM\",\"name\":\"Total final energy consumption (TFEC)\",\"unit\":\"\",\"source\":{\"id\":\"35\",\"value\":\"Sustainable Energy for All\"},\"sourceNote\":\"Total final energy consumption (TFEC): This indicator is derived form energy balances statistics and is equivalent to total final consumption excluding non-energy use.\",\"sourceOrganization\":\"World Bank and International Energy Agency (IEA Statistics \\xc2\\xa9 OECD\\\\/IEA, http:\\\\/\\\\/www.iea.org\\\\/stats\\\\/index.asp).  \",\"topics\":[]},{\"id\":\"1.1_YOUTH.LITERACY.RATE\",\"name\":\"Literacy rate, youth total (% of people ages 15-24) \",\"unit\":\"\",\"source\":{\"id\":\"34\",\"value\":\"Global Partnership for Education\"},\"sourceNote\":\"The number of persons aged 15 to 24 years who can both read and write with understanding a short simple statement on their everyday life, divided by the population in that age group. Generally, \\xe2\\x80\\x98literacy\\xe2\\x80\\x99 also encompasses \\xe2\\x80\\x98numeracy\\xe2\\x80\\x99, the ability to make simple arithmetic calculations. For further country-specific definition details please refer to the source of information, the UNESCO Institute for Statistics (UIS): www.uis.unesco.org\",\"sourceOrganization\":\"Source of information: UNESCO Institute for Statistics (www.uis.unesco.org). Please refer to its website for country-specific details on the specific national data sources and method used. \",\"topics\":[]},{\"id\":\"1.2.HCount.1.90usd\",\"name\":\"Poverty Headcount ($1.90 a day)-Urban\",\"unit\":\"\",\"source\":{\"id\":\"37\",\"value\":\"LAC Equity Lab\"},\"sourceNote\":\"The poverty headcount index measures the proportion of the population with daily per capita income (in 2011 PPP) below the poverty line.\",\"sourceOrganization\":\"LAC Equity Lab tabulations of SEDLAC (CEDLAS and the World Bank).\",\"topics\":[{\"id\":\"11\",\"value\":\"Poverty \"}]},{\"id\":\"1.2.HCount.2.5usd\",\"name\":\"Poverty Headcount ($2.50 a day)-Urban\",\"unit\":\"\",\"source\":{\"id\":\"37\",\"value\":\"LAC Equity Lab\"},\"sourceNote\":\"The poverty headcount index measures the proportion of the population with daily per capita income (in 2005 PPP) below the poverty line.\",\"sourceOrganization\":\"LAC Equity Lab tabulations of SEDLAC (CEDLAS and the World Bank).\",\"topics\":[{\"id\":\"11\",\"value\":\"Poverty \"}]},{\"id\":\"1.2.HCount.Mid10to50\",\"name\":\"Middle Class ($10-50 a day) Headcount-Urban\",\"unit\":\"\",\"source\":{\"id\":\"37\",\"value\":\"LAC Equity Lab\"},\"sourceNote\":\"The poverty headcount index measures the proportion of the population with daily per capita income (in 2005 PPP) below the poverty line.\",\"sourceOrganization\":\"LAC Equity Lab tabulations of SEDLAC (CEDLAS and the World Bank).\",\"topics\":[{\"id\":\"11\",\"value\":\"Poverty \"}]},{\"id\":\"1.2.HCount.Ofcl\",\"name\":\"Official Moderate Poverty Rate-Urban\",\"unit\":\"\",\"source\":{\"id\":\"37\",\"value\":\"LAC Equity Lab\"},\"sourceNote\":\"The poverty headcount index measures the proportion of the population with daily per capita income below the official poverty line developed by each country.\",\"sourceOrganization\":\"LAC Equity Lab tabulations of data from National Statistical Offices.\",\"topics\":[{\"id\":\"11\",\"value\":\"Poverty \"}]},{\"id\":\"1.2.HCount.Poor4uds\",\"name\":\"Poverty Headcount ($4 a day)-Urban\",\"unit\":\"\",\"source\":{\"id\":\"37\",\"value\":\"LAC Equity Lab\"},\"sourceNote\":\"The poverty headcount index measures the proportion of the population with daily per capita income (in 2005 PPP) below the poverty line.\",\"sourceOrganization\":\"LAC Equity Lab tabulations of SEDLAC (CEDLAS and the World Bank).\",\"topics\":[{\"id\":\"11\",\"value\":\"Poverty \"}]},{\"id\":\"1.2.HCount.Vul4to10\",\"name\":\"Vulnerable ($4-10 a day) Headcount-Urban\",\"unit\":\"\",\"source\":{\"id\":\"37\",\"value\":\"LAC Equity Lab\"},\"sourceNote\":\"The poverty headcount index measures the proportion of the population with daily per capita income (in 2005 PPP) below the poverty line.\",\"sourceOrganization\":\"LAC Equity Lab tabulations of SEDLAC (CEDLAS and the World Bank).\",\"topics\":[{\"id\":\"11\",\"value\":\"Poverty \"}]},{\"id\":\"1.2.PGap.1.90usd\",\"name\":\"Poverty Gap ($1.90 a day)-Urban\",\"unit\":\"\",\"source\":{\"id\":\"37\",\"value\":\"LAC Equity Lab\"},\"sourceNote\":\"The poverty gap captures the mean aggregate income or consumption shortfall relative to the poverty line across the entire population. It measures the total resources needed to bring all the poor to the level of the poverty line (averaged over the total population). \",\"sourceOrganization\":\"LAC Equity Lab tabulations of SEDLAC (CEDLAS and the World Bank).\",\"topics\":[{\"id\":\"11\",\"value\":\"Poverty \"}]},{\"id\":\"1.2.PGap.2.5usd\",\"name\":\"Poverty Gap ($2.50 a day)-Urban\",\"unit\":\"\",\"source\":{\"id\":\"37\",\"value\":\"LAC Equity Lab\"},\"sourceNote\":\"The poverty gap captures the mean aggregate income or consumption shortfall relative to the poverty line across the entire population. It measures the total resources needed to bring all the poor to the level of the poverty line (averaged over the total population). \",\"sourceOrganization\":\"LAC Equity Lab tabulations of SEDLAC (CEDLAS and the World Bank).\",\"topics\":[{\"id\":\"11\",\"value\":\"Poverty \"}]},{\"id\":\"1.2.PGap.Poor4uds\",\"name\":\"Poverty Gap ($4 a day)-Urban\",\"unit\":\"\",\"source\":{\"id\":\"37\",\"value\":\"LAC Equity Lab\"},\"sourceNote\":\"The poverty gap captures the mean aggregate income or consumption shortfall relative to the poverty line across the entire population. It measures the total resources needed to bring all the poor to the level of the poverty line (averaged over the total population). \",\"sourceOrganization\":\"LAC Equity Lab tabulations of SEDLAC (CEDLAS and the World Bank).\",\"topics\":[{\"id\":\"11\",\"value\":\"Poverty \"}]},{\"id\":\"1.2.PSev.1.90usd\",\"name\":\"Poverty Severity ($1.90 a day)-Urban\",\"unit\":\"\",\"source\":{\"id\":\"37\",\"value\":\"LAC Equity Lab\"},\"sourceNote\":\"The poverty severity index combines information on both poverty and inequality among the poor by averaging the squares of the poverty gaps relative the poverty line\",\"sourceOrganization\":\"LAC Equity Lab tabulations of SEDLAC (CEDLAS and the World Bank).\",\"topics\":[{\"id\":\"11\",\"value\":\"Poverty \"}]},{\"id\":\"1.2.PSev.2.5usd\",\"name\":\"Poverty Severity ($2.50 a day)-Urban\",\"unit\":\"\",\"source\":{\"id\":\"37\",\"value\":\"LAC Equity Lab\"},\"sourceNote\":\"The poverty severity index combines information on both poverty and inequality among the poor by averaging the squares of the poverty gaps relative the poverty line\",\"sourceOrganization\":\"LAC Equity Lab tabulations of SEDLAC (CEDLAS and the World Bank).\",\"topics\":[{\"id\":\"11\",\"value\":\"Poverty \"}]},{\"id\":\"1.2.PSev.Poor4uds\",\"name\":\"Poverty Severity ($4 a day)-Urban\",\"unit\":\"\",\"source\":{\"id\":\"37\",\"value\":\"LAC Equity Lab\"},\"sourceNote\":\"The poverty severity index combines information on both poverty and inequality among the poor by averaging the squares of the poverty gaps relative the poverty line\",\"sourceOrganization\":\"LAC Equity Lab tabulations of SEDLAC (CEDLAS and the World Bank).\",\"topics\":[{\"id\":\"11\",\"value\":\"Poverty \"}]},{\"id\":\"1.2_ACCESS.ELECTRICITY.RURAL\",\"name\":\"Access to electricity (% of rural population)\",\"unit\":\"\",\"source\":{\"id\":\"35\",\"value\":\"Sustainable Energy for All\"},\"sourceNote\":\"Access to electricity is the percentage of rural population with access to electricity. \",\"sourceOrganization\":\"World Bank Global Electrification Database 2013\",\"topics\":[]},{\"id\":\"1.3_ACCESS.ELECTRICITY.URBAN\",\"name\":\"Access to electricity (% of urban population)\",\"unit\":\"\",\"source\":{\"id\":\"35\",\"value\":\"Sustainable Energy for All\"},\"sourceNote\":\"Access to electricity is the percentage of total population with access to electricity. \",\"sourceOrganization\":\"World Bank Global Electrification Database 2014\",\"topics\":[]},{\"id\":\"100000\",\"name\":\"100000:GROSS DOMESTIC PRODUCT\",\"unit\":\"\",\"source\":{\"id\":\"71\",\"value\":\"International Comparison Program (ICP) 2005\"},\"sourceNote\":\"\",\"sourceOrganization\":\"\",\"topics\":[]},{\"id\":\"1000000\",\"name\":\"1000000:GROSS DOMESTIC PRODUCT\",\"unit\":\"\",\"source\":{\"id\":\"78\",\"value\":\"ICP 2017\"},\"sourceNote\":\"\",\"sourceOrganization\":\"\",\"topics\":[]},{\"id\":\"110000\",\"name\":\"110000:INDIVIDUAL CONSUMPTION EXPENDITURE BY HOUSEHOLDS\",\"unit\":\"\",\"source\":{\"id\":\"71\",\"value\":\"International Comparison Program (ICP) 2005\"},\"sourceNote\":\"\",\"sourceOrganization\":\"\",\"topics\":[]},{\"id\":\"110100\",\"name\":\"110100:FOOD AND NON-ALCOHOLIC BEVERAGES\",\"unit\":\"\",\"source\":{\"id\":\"71\",\"value\":\"International Comparison Program (ICP) 2005\"},\"sourceNote\":\"\",\"sourceOrganization\":\"\",\"topics\":[]},{\"id\":\"1101000\",\"name\":\"1101000:FOOD AND NON-ALCOHOLIC BEVERAGES\",\"unit\":\"\",\"source\":{\"id\":\"78\",\"value\":\"ICP 2017\"},\"sourceNote\":\"\",\"sourceOrganization\":\"\",\"topics\":[]},{\"id\":\"110110\",\"name\":\"110110:FOOD\",\"unit\":\"\",\"source\":{\"id\":\"71\",\"value\":\"International Comparison Program (ICP) 2005\"},\"sourceNote\":\"\",\"sourceOrganization\":\"\",\"topics\":[]},{\"id\":\"1101100\",\"name\":\"1101100:FOOD\",\"unit\":\"\",\"source\":{\"id\":\"78\",\"value\":\"ICP 2017\"},\"sourceNote\":\"\",\"sourceOrganization\":\"\",\"topics\":[]},{\"id\":\"110111\",\"name\":\"110111:Bread and cereals (Class)\",\"unit\":\"\",\"source\":{\"id\":\"71\",\"value\":\"International Comparison Program (ICP) 2005\"},\"sourceNote\":\"\",\"sourceOrganization\":\"\",\"topics\":[]},{\"id\":\"1101110\",\"name\":\"1101110:Bread and cereals\",\"unit\":\"\",\"source\":{\"id\":\"78\",\"value\":\"ICP 2017\"},\"sourceNote\":\"\",\"sourceOrganization\":\"\",\"topics\":[{}]}]]'"
      ]
     },
     "execution_count": 25,
     "metadata": {},
     "output_type": "execute_result"
    }
   ],
   "source": [
    "indicators.content"
   ]
  },
  {
   "cell_type": "markdown",
   "metadata": {
    "id": "V-OuNgKlo2su"
   },
   "source": [
    "С помощью `библиотеки json` мы можем преобразовать данные в более привычный формат. Для этого импортируем библиотеку и вызовем оттуда метод  `.loads()`, который отдаст список с вложенными словарями."
   ]
  },
  {
   "cell_type": "code",
   "execution_count": 26,
   "metadata": {
    "id": "Yg7_9d-oo2su",
    "scrolled": true
   },
   "outputs": [],
   "source": [
    "import json"
   ]
  },
  {
   "cell_type": "code",
   "execution_count": 28,
   "metadata": {
    "id": "tppZFOVvo2su",
    "scrolled": true
   },
   "outputs": [
    {
     "data": {
      "text/plain": [
       "[{'page': 1, 'pages': 489, 'per_page': '50', 'total': 24402},\n",
       " [{'id': '1.0.HCount.1.90usd',\n",
       "   'name': 'Poverty Headcount ($1.90 a day)',\n",
       "   'unit': '',\n",
       "   'source': {'id': '37', 'value': 'LAC Equity Lab'},\n",
       "   'sourceNote': 'The poverty headcount index measures the proportion of the population with daily per capita income (in 2011 PPP) below the poverty line.',\n",
       "   'sourceOrganization': 'LAC Equity Lab tabulations of SEDLAC (CEDLAS and the World Bank).',\n",
       "   'topics': [{'id': '11', 'value': 'Poverty '}]},\n",
       "  {'id': '1.0.HCount.2.5usd',\n",
       "   'name': 'Poverty Headcount ($2.50 a day)',\n",
       "   'unit': '',\n",
       "   'source': {'id': '37', 'value': 'LAC Equity Lab'},\n",
       "   'sourceNote': 'The poverty headcount index measures the proportion of the population with daily per capita income (in 2005 PPP) below the poverty line.',\n",
       "   'sourceOrganization': 'LAC Equity Lab tabulations of SEDLAC (CEDLAS and the World Bank).',\n",
       "   'topics': [{'id': '11', 'value': 'Poverty '}]},\n",
       "  {'id': '1.0.HCount.Mid10to50',\n",
       "   'name': 'Middle Class ($10-50 a day) Headcount',\n",
       "   'unit': '',\n",
       "   'source': {'id': '37', 'value': 'LAC Equity Lab'},\n",
       "   'sourceNote': 'The poverty headcount index measures the proportion of the population with daily per capita income (in 2005 PPP) below the poverty line.',\n",
       "   'sourceOrganization': 'LAC Equity Lab tabulations of SEDLAC (CEDLAS and the World Bank).',\n",
       "   'topics': [{'id': '11', 'value': 'Poverty '}]},\n",
       "  {'id': '1.0.HCount.Ofcl',\n",
       "   'name': 'Official Moderate Poverty Rate-National',\n",
       "   'unit': '',\n",
       "   'source': {'id': '37', 'value': 'LAC Equity Lab'},\n",
       "   'sourceNote': 'The poverty headcount index measures the proportion of the population with daily per capita income below the official poverty line developed by each country.',\n",
       "   'sourceOrganization': 'LAC Equity Lab tabulations of data from National Statistical Offices.',\n",
       "   'topics': [{'id': '11', 'value': 'Poverty '}]},\n",
       "  {'id': '1.0.HCount.Poor4uds',\n",
       "   'name': 'Poverty Headcount ($4 a day)',\n",
       "   'unit': '',\n",
       "   'source': {'id': '37', 'value': 'LAC Equity Lab'},\n",
       "   'sourceNote': 'The poverty headcount index measures the proportion of the population with daily per capita income (in 2005 PPP) below the poverty line.',\n",
       "   'sourceOrganization': 'LAC Equity Lab tabulations of SEDLAC (CEDLAS and the World Bank).',\n",
       "   'topics': [{'id': '11', 'value': 'Poverty '}]},\n",
       "  {'id': '1.0.HCount.Vul4to10',\n",
       "   'name': 'Vulnerable ($4-10 a day) Headcount',\n",
       "   'unit': '',\n",
       "   'source': {'id': '37', 'value': 'LAC Equity Lab'},\n",
       "   'sourceNote': 'The poverty headcount index measures the proportion of the population with daily per capita income (in 2005 PPP) below the poverty line.',\n",
       "   'sourceOrganization': 'LAC Equity Lab tabulations of SEDLAC (CEDLAS and the World Bank).',\n",
       "   'topics': [{'id': '11', 'value': 'Poverty '}]},\n",
       "  {'id': '1.0.PGap.1.90usd',\n",
       "   'name': 'Poverty Gap ($1.90 a day)',\n",
       "   'unit': '',\n",
       "   'source': {'id': '37', 'value': 'LAC Equity Lab'},\n",
       "   'sourceNote': 'The poverty gap captures the mean aggregate income or consumption shortfall relative to the poverty line across the entire population. It measures the total resources needed to bring all the poor to the level of the poverty line (averaged over the total population). ',\n",
       "   'sourceOrganization': 'LAC Equity Lab tabulations of SEDLAC (CEDLAS and the World Bank).',\n",
       "   'topics': [{'id': '11', 'value': 'Poverty '}]},\n",
       "  {'id': '1.0.PGap.2.5usd',\n",
       "   'name': 'Poverty Gap ($2.50 a day)',\n",
       "   'unit': '',\n",
       "   'source': {'id': '37', 'value': 'LAC Equity Lab'},\n",
       "   'sourceNote': 'The poverty gap captures the mean aggregate income or consumption shortfall relative to the poverty line across the entire population. It measures the total resources needed to bring all the poor to the level of the poverty line (averaged over the total population). ',\n",
       "   'sourceOrganization': 'LAC Equity Lab tabulations of SEDLAC (CEDLAS and the World Bank).',\n",
       "   'topics': [{'id': '11', 'value': 'Poverty '}]},\n",
       "  {'id': '1.0.PGap.Poor4uds',\n",
       "   'name': 'Poverty Gap ($4 a day)',\n",
       "   'unit': '',\n",
       "   'source': {'id': '37', 'value': 'LAC Equity Lab'},\n",
       "   'sourceNote': 'The poverty gap captures the mean aggregate income or consumption shortfall relative to the poverty line across the entire population. It measures the total resources needed to bring all the poor to the level of the poverty line (averaged over the total population). ',\n",
       "   'sourceOrganization': 'LAC Equity Lab tabulations of SEDLAC (CEDLAS and the World Bank).',\n",
       "   'topics': [{'id': '11', 'value': 'Poverty '}]},\n",
       "  {'id': '1.0.PSev.1.90usd',\n",
       "   'name': 'Poverty Severity ($1.90 a day)',\n",
       "   'unit': '',\n",
       "   'source': {'id': '37', 'value': 'LAC Equity Lab'},\n",
       "   'sourceNote': 'The poverty severity index combines information on both poverty and inequality among the poor by averaging the squares of the poverty gaps relative the poverty line',\n",
       "   'sourceOrganization': 'LAC Equity Lab tabulations of SEDLAC (CEDLAS and the World Bank).',\n",
       "   'topics': [{'id': '11', 'value': 'Poverty '}]},\n",
       "  {'id': '1.0.PSev.2.5usd',\n",
       "   'name': 'Poverty Severity ($2.50 a day)',\n",
       "   'unit': '',\n",
       "   'source': {'id': '37', 'value': 'LAC Equity Lab'},\n",
       "   'sourceNote': 'The poverty severity index combines information on both poverty and inequality among the poor by averaging the squares of the poverty gaps relative the poverty line',\n",
       "   'sourceOrganization': 'LAC Equity Lab tabulations of SEDLAC (CEDLAS and the World Bank).',\n",
       "   'topics': [{'id': '11', 'value': 'Poverty '}]},\n",
       "  {'id': '1.0.PSev.Poor4uds',\n",
       "   'name': 'Poverty Severity ($4 a day)',\n",
       "   'unit': '',\n",
       "   'source': {'id': '37', 'value': 'LAC Equity Lab'},\n",
       "   'sourceNote': 'The poverty severity index combines information on both poverty and inequality among the poor by averaging the squares of the poverty gaps relative the poverty line',\n",
       "   'sourceOrganization': 'LAC Equity Lab tabulations of SEDLAC (CEDLAS and the World Bank).',\n",
       "   'topics': [{'id': '11', 'value': 'Poverty '}]},\n",
       "  {'id': '1.1.HCount.1.90usd',\n",
       "   'name': 'Poverty Headcount ($1.90 a day)-Rural',\n",
       "   'unit': '',\n",
       "   'source': {'id': '37', 'value': 'LAC Equity Lab'},\n",
       "   'sourceNote': 'The poverty headcount index measures the proportion of the population with daily per capita income (in 2011 PPP) below the poverty line.',\n",
       "   'sourceOrganization': 'LAC Equity Lab tabulations of SEDLAC (CEDLAS and the World Bank).',\n",
       "   'topics': [{'id': '11', 'value': 'Poverty '}]},\n",
       "  {'id': '1.1.HCount.2.5usd',\n",
       "   'name': 'Poverty Headcount ($2.50 a day)-Rural',\n",
       "   'unit': '',\n",
       "   'source': {'id': '37', 'value': 'LAC Equity Lab'},\n",
       "   'sourceNote': 'The poverty headcount index measures the proportion of the population with daily per capita income (in 2005 PPP) below the poverty line.',\n",
       "   'sourceOrganization': 'LAC Equity Lab tabulations of SEDLAC (CEDLAS and the World Bank).',\n",
       "   'topics': [{'id': '11', 'value': 'Poverty '}]},\n",
       "  {'id': '1.1.HCount.Mid10to50',\n",
       "   'name': 'Middle Class ($10-50 a day) Headcount-Rural',\n",
       "   'unit': '',\n",
       "   'source': {'id': '37', 'value': 'LAC Equity Lab'},\n",
       "   'sourceNote': 'The poverty headcount index measures the proportion of the population with daily per capita income (in 2005 PPP) below the poverty line.',\n",
       "   'sourceOrganization': 'LAC Equity Lab tabulations of SEDLAC (CEDLAS and the World Bank).',\n",
       "   'topics': [{'id': '11', 'value': 'Poverty '}]},\n",
       "  {'id': '1.1.HCount.Ofcl',\n",
       "   'name': 'Official Moderate Poverty Rate- Rural',\n",
       "   'unit': '',\n",
       "   'source': {'id': '37', 'value': 'LAC Equity Lab'},\n",
       "   'sourceNote': 'The poverty headcount index measures the proportion of the population with daily per capita income below the official poverty line developed by each country.',\n",
       "   'sourceOrganization': 'LAC Equity Lab tabulations of data from National Statistical Offices.',\n",
       "   'topics': [{'id': '11', 'value': 'Poverty '}]},\n",
       "  {'id': '1.1.HCount.Poor4uds',\n",
       "   'name': 'Poverty Headcount ($4 a day)-Rural',\n",
       "   'unit': '',\n",
       "   'source': {'id': '37', 'value': 'LAC Equity Lab'},\n",
       "   'sourceNote': 'The poverty headcount index measures the proportion of the population with daily per capita income (in 2005 PPP) below the poverty line.',\n",
       "   'sourceOrganization': 'LAC Equity Lab tabulations of SEDLAC (CEDLAS and the World Bank).',\n",
       "   'topics': [{'id': '11', 'value': 'Poverty '}]},\n",
       "  {'id': '1.1.HCount.Vul4to10',\n",
       "   'name': 'Vulnerable ($4-10 a day) Headcount-Rural',\n",
       "   'unit': '',\n",
       "   'source': {'id': '37', 'value': 'LAC Equity Lab'},\n",
       "   'sourceNote': 'The poverty headcount index measures the proportion of the population with daily per capita income (in 2005 PPP) below the poverty line.',\n",
       "   'sourceOrganization': 'LAC Equity Lab tabulations of SEDLAC (CEDLAS and the World Bank).',\n",
       "   'topics': [{'id': '11', 'value': 'Poverty '}]},\n",
       "  {'id': '1.1.PGap.1.90usd',\n",
       "   'name': 'Poverty Gap ($1.90 a day)-Rural',\n",
       "   'unit': '',\n",
       "   'source': {'id': '37', 'value': 'LAC Equity Lab'},\n",
       "   'sourceNote': 'The poverty gap captures the mean aggregate income or consumption shortfall relative to the poverty line across the entire population. It measures the total resources needed to bring all the poor to the level of the poverty line (averaged over the total population). ',\n",
       "   'sourceOrganization': 'LAC Equity Lab tabulations of SEDLAC (CEDLAS and the World Bank).',\n",
       "   'topics': [{'id': '11', 'value': 'Poverty '}]},\n",
       "  {'id': '1.1.PGap.2.5usd',\n",
       "   'name': 'Poverty Gap ($2.50 a day)-Rural',\n",
       "   'unit': '',\n",
       "   'source': {'id': '37', 'value': 'LAC Equity Lab'},\n",
       "   'sourceNote': 'The poverty gap captures the mean aggregate income or consumption shortfall relative to the poverty line across the entire population. It measures the total resources needed to bring all the poor to the level of the poverty line (averaged over the total population). ',\n",
       "   'sourceOrganization': 'LAC Equity Lab tabulations of SEDLAC (CEDLAS and the World Bank).',\n",
       "   'topics': [{'id': '11', 'value': 'Poverty '}]},\n",
       "  {'id': '1.1.PGap.Poor4uds',\n",
       "   'name': 'Poverty Gap ($4 a day)-Rural',\n",
       "   'unit': '',\n",
       "   'source': {'id': '37', 'value': 'LAC Equity Lab'},\n",
       "   'sourceNote': 'The poverty gap captures the mean aggregate income or consumption shortfall relative to the poverty line across the entire population. It measures the total resources needed to bring all the poor to the level of the poverty line (averaged over the total population). ',\n",
       "   'sourceOrganization': 'LAC Equity Lab tabulations of SEDLAC (CEDLAS and the World Bank).',\n",
       "   'topics': [{'id': '11', 'value': 'Poverty '}]},\n",
       "  {'id': '1.1.PSev.1.90usd',\n",
       "   'name': 'Poverty Severity ($1.90 a day)-Rural',\n",
       "   'unit': '',\n",
       "   'source': {'id': '37', 'value': 'LAC Equity Lab'},\n",
       "   'sourceNote': 'The poverty severity index combines information on both poverty and inequality among the poor by averaging the squares of the poverty gaps relative the poverty line',\n",
       "   'sourceOrganization': 'LAC Equity Lab tabulations of SEDLAC (CEDLAS and the World Bank).',\n",
       "   'topics': [{'id': '11', 'value': 'Poverty '}]},\n",
       "  {'id': '1.1.PSev.2.5usd',\n",
       "   'name': 'Poverty Severity ($2.50 a day)-Rural',\n",
       "   'unit': '',\n",
       "   'source': {'id': '37', 'value': 'LAC Equity Lab'},\n",
       "   'sourceNote': 'The poverty severity index combines information on both poverty and inequality among the poor by averaging the squares of the poverty gaps relative the poverty line',\n",
       "   'sourceOrganization': 'LAC Equity Lab tabulations of SEDLAC (CEDLAS and the World Bank).',\n",
       "   'topics': [{'id': '11', 'value': 'Poverty '}]},\n",
       "  {'id': '1.1.PSev.Poor4uds',\n",
       "   'name': 'Poverty Severity ($4 a day)-Rural',\n",
       "   'unit': '',\n",
       "   'source': {'id': '37', 'value': 'LAC Equity Lab'},\n",
       "   'sourceNote': 'The poverty severity index combines information on both poverty and inequality among the poor by averaging the squares of the poverty gaps relative the poverty line',\n",
       "   'sourceOrganization': 'LAC Equity Lab tabulations of SEDLAC (CEDLAS and the World Bank).',\n",
       "   'topics': [{'id': '11', 'value': 'Poverty '}]},\n",
       "  {'id': '1.1_ACCESS.ELECTRICITY.TOT',\n",
       "   'name': 'Access to electricity (% of total population)',\n",
       "   'unit': '',\n",
       "   'source': {'id': '35', 'value': 'Sustainable Energy for All'},\n",
       "   'sourceNote': 'Access to electricity is the percentage of population with access to electricity.',\n",
       "   'sourceOrganization': 'World Bank Global Electrification Database 2012',\n",
       "   'topics': []},\n",
       "  {'id': '1.1_TOTAL.FINAL.ENERGY.CONSUM',\n",
       "   'name': 'Total final energy consumption (TFEC)',\n",
       "   'unit': '',\n",
       "   'source': {'id': '35', 'value': 'Sustainable Energy for All'},\n",
       "   'sourceNote': 'Total final energy consumption (TFEC): This indicator is derived form energy balances statistics and is equivalent to total final consumption excluding non-energy use.',\n",
       "   'sourceOrganization': 'World Bank and International Energy Agency (IEA Statistics © OECD/IEA, http://www.iea.org/stats/index.asp).  ',\n",
       "   'topics': []},\n",
       "  {'id': '1.1_YOUTH.LITERACY.RATE',\n",
       "   'name': 'Literacy rate, youth total (% of people ages 15-24) ',\n",
       "   'unit': '',\n",
       "   'source': {'id': '34', 'value': 'Global Partnership for Education'},\n",
       "   'sourceNote': 'The number of persons aged 15 to 24 years who can both read and write with understanding a short simple statement on their everyday life, divided by the population in that age group. Generally, ‘literacy’ also encompasses ‘numeracy’, the ability to make simple arithmetic calculations. For further country-specific definition details please refer to the source of information, the UNESCO Institute for Statistics (UIS): www.uis.unesco.org',\n",
       "   'sourceOrganization': 'Source of information: UNESCO Institute for Statistics (www.uis.unesco.org). Please refer to its website for country-specific details on the specific national data sources and method used. ',\n",
       "   'topics': []},\n",
       "  {'id': '1.2.HCount.1.90usd',\n",
       "   'name': 'Poverty Headcount ($1.90 a day)-Urban',\n",
       "   'unit': '',\n",
       "   'source': {'id': '37', 'value': 'LAC Equity Lab'},\n",
       "   'sourceNote': 'The poverty headcount index measures the proportion of the population with daily per capita income (in 2011 PPP) below the poverty line.',\n",
       "   'sourceOrganization': 'LAC Equity Lab tabulations of SEDLAC (CEDLAS and the World Bank).',\n",
       "   'topics': [{'id': '11', 'value': 'Poverty '}]},\n",
       "  {'id': '1.2.HCount.2.5usd',\n",
       "   'name': 'Poverty Headcount ($2.50 a day)-Urban',\n",
       "   'unit': '',\n",
       "   'source': {'id': '37', 'value': 'LAC Equity Lab'},\n",
       "   'sourceNote': 'The poverty headcount index measures the proportion of the population with daily per capita income (in 2005 PPP) below the poverty line.',\n",
       "   'sourceOrganization': 'LAC Equity Lab tabulations of SEDLAC (CEDLAS and the World Bank).',\n",
       "   'topics': [{'id': '11', 'value': 'Poverty '}]},\n",
       "  {'id': '1.2.HCount.Mid10to50',\n",
       "   'name': 'Middle Class ($10-50 a day) Headcount-Urban',\n",
       "   'unit': '',\n",
       "   'source': {'id': '37', 'value': 'LAC Equity Lab'},\n",
       "   'sourceNote': 'The poverty headcount index measures the proportion of the population with daily per capita income (in 2005 PPP) below the poverty line.',\n",
       "   'sourceOrganization': 'LAC Equity Lab tabulations of SEDLAC (CEDLAS and the World Bank).',\n",
       "   'topics': [{'id': '11', 'value': 'Poverty '}]},\n",
       "  {'id': '1.2.HCount.Ofcl',\n",
       "   'name': 'Official Moderate Poverty Rate-Urban',\n",
       "   'unit': '',\n",
       "   'source': {'id': '37', 'value': 'LAC Equity Lab'},\n",
       "   'sourceNote': 'The poverty headcount index measures the proportion of the population with daily per capita income below the official poverty line developed by each country.',\n",
       "   'sourceOrganization': 'LAC Equity Lab tabulations of data from National Statistical Offices.',\n",
       "   'topics': [{'id': '11', 'value': 'Poverty '}]},\n",
       "  {'id': '1.2.HCount.Poor4uds',\n",
       "   'name': 'Poverty Headcount ($4 a day)-Urban',\n",
       "   'unit': '',\n",
       "   'source': {'id': '37', 'value': 'LAC Equity Lab'},\n",
       "   'sourceNote': 'The poverty headcount index measures the proportion of the population with daily per capita income (in 2005 PPP) below the poverty line.',\n",
       "   'sourceOrganization': 'LAC Equity Lab tabulations of SEDLAC (CEDLAS and the World Bank).',\n",
       "   'topics': [{'id': '11', 'value': 'Poverty '}]},\n",
       "  {'id': '1.2.HCount.Vul4to10',\n",
       "   'name': 'Vulnerable ($4-10 a day) Headcount-Urban',\n",
       "   'unit': '',\n",
       "   'source': {'id': '37', 'value': 'LAC Equity Lab'},\n",
       "   'sourceNote': 'The poverty headcount index measures the proportion of the population with daily per capita income (in 2005 PPP) below the poverty line.',\n",
       "   'sourceOrganization': 'LAC Equity Lab tabulations of SEDLAC (CEDLAS and the World Bank).',\n",
       "   'topics': [{'id': '11', 'value': 'Poverty '}]},\n",
       "  {'id': '1.2.PGap.1.90usd',\n",
       "   'name': 'Poverty Gap ($1.90 a day)-Urban',\n",
       "   'unit': '',\n",
       "   'source': {'id': '37', 'value': 'LAC Equity Lab'},\n",
       "   'sourceNote': 'The poverty gap captures the mean aggregate income or consumption shortfall relative to the poverty line across the entire population. It measures the total resources needed to bring all the poor to the level of the poverty line (averaged over the total population). ',\n",
       "   'sourceOrganization': 'LAC Equity Lab tabulations of SEDLAC (CEDLAS and the World Bank).',\n",
       "   'topics': [{'id': '11', 'value': 'Poverty '}]},\n",
       "  {'id': '1.2.PGap.2.5usd',\n",
       "   'name': 'Poverty Gap ($2.50 a day)-Urban',\n",
       "   'unit': '',\n",
       "   'source': {'id': '37', 'value': 'LAC Equity Lab'},\n",
       "   'sourceNote': 'The poverty gap captures the mean aggregate income or consumption shortfall relative to the poverty line across the entire population. It measures the total resources needed to bring all the poor to the level of the poverty line (averaged over the total population). ',\n",
       "   'sourceOrganization': 'LAC Equity Lab tabulations of SEDLAC (CEDLAS and the World Bank).',\n",
       "   'topics': [{'id': '11', 'value': 'Poverty '}]},\n",
       "  {'id': '1.2.PGap.Poor4uds',\n",
       "   'name': 'Poverty Gap ($4 a day)-Urban',\n",
       "   'unit': '',\n",
       "   'source': {'id': '37', 'value': 'LAC Equity Lab'},\n",
       "   'sourceNote': 'The poverty gap captures the mean aggregate income or consumption shortfall relative to the poverty line across the entire population. It measures the total resources needed to bring all the poor to the level of the poverty line (averaged over the total population). ',\n",
       "   'sourceOrganization': 'LAC Equity Lab tabulations of SEDLAC (CEDLAS and the World Bank).',\n",
       "   'topics': [{'id': '11', 'value': 'Poverty '}]},\n",
       "  {'id': '1.2.PSev.1.90usd',\n",
       "   'name': 'Poverty Severity ($1.90 a day)-Urban',\n",
       "   'unit': '',\n",
       "   'source': {'id': '37', 'value': 'LAC Equity Lab'},\n",
       "   'sourceNote': 'The poverty severity index combines information on both poverty and inequality among the poor by averaging the squares of the poverty gaps relative the poverty line',\n",
       "   'sourceOrganization': 'LAC Equity Lab tabulations of SEDLAC (CEDLAS and the World Bank).',\n",
       "   'topics': [{'id': '11', 'value': 'Poverty '}]},\n",
       "  {'id': '1.2.PSev.2.5usd',\n",
       "   'name': 'Poverty Severity ($2.50 a day)-Urban',\n",
       "   'unit': '',\n",
       "   'source': {'id': '37', 'value': 'LAC Equity Lab'},\n",
       "   'sourceNote': 'The poverty severity index combines information on both poverty and inequality among the poor by averaging the squares of the poverty gaps relative the poverty line',\n",
       "   'sourceOrganization': 'LAC Equity Lab tabulations of SEDLAC (CEDLAS and the World Bank).',\n",
       "   'topics': [{'id': '11', 'value': 'Poverty '}]},\n",
       "  {'id': '1.2.PSev.Poor4uds',\n",
       "   'name': 'Poverty Severity ($4 a day)-Urban',\n",
       "   'unit': '',\n",
       "   'source': {'id': '37', 'value': 'LAC Equity Lab'},\n",
       "   'sourceNote': 'The poverty severity index combines information on both poverty and inequality among the poor by averaging the squares of the poverty gaps relative the poverty line',\n",
       "   'sourceOrganization': 'LAC Equity Lab tabulations of SEDLAC (CEDLAS and the World Bank).',\n",
       "   'topics': [{'id': '11', 'value': 'Poverty '}]},\n",
       "  {'id': '1.2_ACCESS.ELECTRICITY.RURAL',\n",
       "   'name': 'Access to electricity (% of rural population)',\n",
       "   'unit': '',\n",
       "   'source': {'id': '35', 'value': 'Sustainable Energy for All'},\n",
       "   'sourceNote': 'Access to electricity is the percentage of rural population with access to electricity. ',\n",
       "   'sourceOrganization': 'World Bank Global Electrification Database 2013',\n",
       "   'topics': []},\n",
       "  {'id': '1.3_ACCESS.ELECTRICITY.URBAN',\n",
       "   'name': 'Access to electricity (% of urban population)',\n",
       "   'unit': '',\n",
       "   'source': {'id': '35', 'value': 'Sustainable Energy for All'},\n",
       "   'sourceNote': 'Access to electricity is the percentage of total population with access to electricity. ',\n",
       "   'sourceOrganization': 'World Bank Global Electrification Database 2014',\n",
       "   'topics': []},\n",
       "  {'id': '100000',\n",
       "   'name': '100000:GROSS DOMESTIC PRODUCT',\n",
       "   'unit': '',\n",
       "   'source': {'id': '71',\n",
       "    'value': 'International Comparison Program (ICP) 2005'},\n",
       "   'sourceNote': '',\n",
       "   'sourceOrganization': '',\n",
       "   'topics': []},\n",
       "  {'id': '1000000',\n",
       "   'name': '1000000:GROSS DOMESTIC PRODUCT',\n",
       "   'unit': '',\n",
       "   'source': {'id': '78', 'value': 'ICP 2017'},\n",
       "   'sourceNote': '',\n",
       "   'sourceOrganization': '',\n",
       "   'topics': []},\n",
       "  {'id': '110000',\n",
       "   'name': '110000:INDIVIDUAL CONSUMPTION EXPENDITURE BY HOUSEHOLDS',\n",
       "   'unit': '',\n",
       "   'source': {'id': '71',\n",
       "    'value': 'International Comparison Program (ICP) 2005'},\n",
       "   'sourceNote': '',\n",
       "   'sourceOrganization': '',\n",
       "   'topics': []},\n",
       "  {'id': '110100',\n",
       "   'name': '110100:FOOD AND NON-ALCOHOLIC BEVERAGES',\n",
       "   'unit': '',\n",
       "   'source': {'id': '71',\n",
       "    'value': 'International Comparison Program (ICP) 2005'},\n",
       "   'sourceNote': '',\n",
       "   'sourceOrganization': '',\n",
       "   'topics': []},\n",
       "  {'id': '1101000',\n",
       "   'name': '1101000:FOOD AND NON-ALCOHOLIC BEVERAGES',\n",
       "   'unit': '',\n",
       "   'source': {'id': '78', 'value': 'ICP 2017'},\n",
       "   'sourceNote': '',\n",
       "   'sourceOrganization': '',\n",
       "   'topics': []},\n",
       "  {'id': '110110',\n",
       "   'name': '110110:FOOD',\n",
       "   'unit': '',\n",
       "   'source': {'id': '71',\n",
       "    'value': 'International Comparison Program (ICP) 2005'},\n",
       "   'sourceNote': '',\n",
       "   'sourceOrganization': '',\n",
       "   'topics': []},\n",
       "  {'id': '1101100',\n",
       "   'name': '1101100:FOOD',\n",
       "   'unit': '',\n",
       "   'source': {'id': '78', 'value': 'ICP 2017'},\n",
       "   'sourceNote': '',\n",
       "   'sourceOrganization': '',\n",
       "   'topics': []},\n",
       "  {'id': '110111',\n",
       "   'name': '110111:Bread and cereals (Class)',\n",
       "   'unit': '',\n",
       "   'source': {'id': '71',\n",
       "    'value': 'International Comparison Program (ICP) 2005'},\n",
       "   'sourceNote': '',\n",
       "   'sourceOrganization': '',\n",
       "   'topics': []},\n",
       "  {'id': '1101110',\n",
       "   'name': '1101110:Bread and cereals',\n",
       "   'unit': '',\n",
       "   'source': {'id': '78', 'value': 'ICP 2017'},\n",
       "   'sourceNote': '',\n",
       "   'sourceOrganization': '',\n",
       "   'topics': [{}]}]]"
      ]
     },
     "execution_count": 28,
     "metadata": {},
     "output_type": "execute_result"
    }
   ],
   "source": [
    "indicators_data = json.loads(indicators.content)\n",
    "indicators_data"
   ]
  },
  {
   "cell_type": "markdown",
   "metadata": {
    "id": "3m6OW4Nio2sv"
   },
   "source": [
    "Мы получили одну страницу с 50 показателями. \n",
    "Документация обещает, что ответ будет в виде списка, где первый элемент описывает данные, а второй содержит их:\n",
    "    \n",
    "```json\n",
    "[{\n",
    "  \"page\": 1,\n",
    "  \"pages\": 1,\n",
    "  \"per_page\": \"50\",\n",
    "  \"total\": 1\n",
    "  },\n",
    "  [{\n",
    "    \"id\": \"NY.GDP.MKTP.CD\",\"name\":\n",
    "    \"GDP (current US$)\",\n",
    "    \"unit\": \"\",\n",
    "    \"source\": {\n",
    "      \"id\": \"2\",\n",
    "      \"value\": \"World Development Indicators\"},\n",
    "    \"sourceNote\": \"GDP at purchaser's prices ... \",\n",
    "    \"sourceOrganization\": \"World Bank national accounts data, and OECD National Accounts data files.\",\n",
    "    \"topics\": [\n",
    "      {\"id\": \"19\",\"value\": \"Climate Change\"},\n",
    "      {\"id\": \"3\",\"value\": \"Economy & Growth\"}\n",
    "    ]\n",
    "  }]\n",
    "]\n",
    "```\n",
    "    \n",
    "Проверим это и посмотрим, что у нас лежит в `indicators_data`"
   ]
  },
  {
   "cell_type": "code",
   "execution_count": 29,
   "metadata": {
    "id": "UUg3cNMvo2sv",
    "scrolled": true
   },
   "outputs": [
    {
     "data": {
      "text/plain": [
       "list"
      ]
     },
     "execution_count": 29,
     "metadata": {},
     "output_type": "execute_result"
    }
   ],
   "source": [
    "type(indicators_data) "
   ]
  },
  {
   "cell_type": "markdown",
   "metadata": {
    "id": "lhhn_qBRo2sv"
   },
   "source": [
    "Отлично, мы поняли, что внутри лежит список, давайте посмотрим его длину"
   ]
  },
  {
   "cell_type": "code",
   "execution_count": 30,
   "metadata": {
    "id": "ZXvZ7-s5o2sv",
    "scrolled": true
   },
   "outputs": [
    {
     "data": {
      "text/plain": [
       "2"
      ]
     },
     "execution_count": 30,
     "metadata": {},
     "output_type": "execute_result"
    }
   ],
   "source": [
    "len(indicators_data)"
   ]
  },
  {
   "cell_type": "markdown",
   "metadata": {
    "id": "fny4kP5Go2sv"
   },
   "source": [
    "В списке всего 2 элемента, посмотрим на них по очереди. "
   ]
  },
  {
   "cell_type": "code",
   "execution_count": 31,
   "metadata": {
    "id": "d2Kb3bipo2sv",
    "scrolled": true
   },
   "outputs": [
    {
     "data": {
      "text/plain": [
       "{'page': 1, 'pages': 489, 'per_page': '50', 'total': 24402}"
      ]
     },
     "execution_count": 31,
     "metadata": {},
     "output_type": "execute_result"
    }
   ],
   "source": [
    "indicators_data[0] # в первом элементе списка — метаданные."
   ]
  },
  {
   "cell_type": "code",
   "execution_count": 21,
   "metadata": {
    "id": "CKzg4-Ffo2sv",
    "scrolled": true
   },
   "outputs": [
    {
     "data": {
      "text/plain": [
       "[{'id': '1.0.HCount.1.90usd',\n",
       "  'name': 'Poverty Headcount ($1.90 a day)',\n",
       "  'unit': '',\n",
       "  'source': {'id': '37', 'value': 'LAC Equity Lab'},\n",
       "  'sourceNote': 'The poverty headcount index measures the proportion of the population with daily per capita income (in 2011 PPP) below the poverty line.',\n",
       "  'sourceOrganization': 'LAC Equity Lab tabulations of SEDLAC (CEDLAS and the World Bank).',\n",
       "  'topics': [{'id': '11', 'value': 'Poverty '}]},\n",
       " {'id': '1.0.HCount.2.5usd',\n",
       "  'name': 'Poverty Headcount ($2.50 a day)',\n",
       "  'unit': '',\n",
       "  'source': {'id': '37', 'value': 'LAC Equity Lab'},\n",
       "  'sourceNote': 'The poverty headcount index measures the proportion of the population with daily per capita income (in 2005 PPP) below the poverty line.',\n",
       "  'sourceOrganization': 'LAC Equity Lab tabulations of SEDLAC (CEDLAS and the World Bank).',\n",
       "  'topics': [{'id': '11', 'value': 'Poverty '}]},\n",
       " {'id': '1.0.HCount.Mid10to50',\n",
       "  'name': 'Middle Class ($10-50 a day) Headcount',\n",
       "  'unit': '',\n",
       "  'source': {'id': '37', 'value': 'LAC Equity Lab'},\n",
       "  'sourceNote': 'The poverty headcount index measures the proportion of the population with daily per capita income (in 2005 PPP) below the poverty line.',\n",
       "  'sourceOrganization': 'LAC Equity Lab tabulations of SEDLAC (CEDLAS and the World Bank).',\n",
       "  'topics': [{'id': '11', 'value': 'Poverty '}]},\n",
       " {'id': '1.0.HCount.Ofcl',\n",
       "  'name': 'Official Moderate Poverty Rate-National',\n",
       "  'unit': '',\n",
       "  'source': {'id': '37', 'value': 'LAC Equity Lab'},\n",
       "  'sourceNote': 'The poverty headcount index measures the proportion of the population with daily per capita income below the official poverty line developed by each country.',\n",
       "  'sourceOrganization': 'LAC Equity Lab tabulations of data from National Statistical Offices.',\n",
       "  'topics': [{'id': '11', 'value': 'Poverty '}]},\n",
       " {'id': '1.0.HCount.Poor4uds',\n",
       "  'name': 'Poverty Headcount ($4 a day)',\n",
       "  'unit': '',\n",
       "  'source': {'id': '37', 'value': 'LAC Equity Lab'},\n",
       "  'sourceNote': 'The poverty headcount index measures the proportion of the population with daily per capita income (in 2005 PPP) below the poverty line.',\n",
       "  'sourceOrganization': 'LAC Equity Lab tabulations of SEDLAC (CEDLAS and the World Bank).',\n",
       "  'topics': [{'id': '11', 'value': 'Poverty '}]},\n",
       " {'id': '1.0.HCount.Vul4to10',\n",
       "  'name': 'Vulnerable ($4-10 a day) Headcount',\n",
       "  'unit': '',\n",
       "  'source': {'id': '37', 'value': 'LAC Equity Lab'},\n",
       "  'sourceNote': 'The poverty headcount index measures the proportion of the population with daily per capita income (in 2005 PPP) below the poverty line.',\n",
       "  'sourceOrganization': 'LAC Equity Lab tabulations of SEDLAC (CEDLAS and the World Bank).',\n",
       "  'topics': [{'id': '11', 'value': 'Poverty '}]},\n",
       " {'id': '1.0.PGap.1.90usd',\n",
       "  'name': 'Poverty Gap ($1.90 a day)',\n",
       "  'unit': '',\n",
       "  'source': {'id': '37', 'value': 'LAC Equity Lab'},\n",
       "  'sourceNote': 'The poverty gap captures the mean aggregate income or consumption shortfall relative to the poverty line across the entire population. It measures the total resources needed to bring all the poor to the level of the poverty line (averaged over the total population). ',\n",
       "  'sourceOrganization': 'LAC Equity Lab tabulations of SEDLAC (CEDLAS and the World Bank).',\n",
       "  'topics': [{'id': '11', 'value': 'Poverty '}]},\n",
       " {'id': '1.0.PGap.2.5usd',\n",
       "  'name': 'Poverty Gap ($2.50 a day)',\n",
       "  'unit': '',\n",
       "  'source': {'id': '37', 'value': 'LAC Equity Lab'},\n",
       "  'sourceNote': 'The poverty gap captures the mean aggregate income or consumption shortfall relative to the poverty line across the entire population. It measures the total resources needed to bring all the poor to the level of the poverty line (averaged over the total population). ',\n",
       "  'sourceOrganization': 'LAC Equity Lab tabulations of SEDLAC (CEDLAS and the World Bank).',\n",
       "  'topics': [{'id': '11', 'value': 'Poverty '}]},\n",
       " {'id': '1.0.PGap.Poor4uds',\n",
       "  'name': 'Poverty Gap ($4 a day)',\n",
       "  'unit': '',\n",
       "  'source': {'id': '37', 'value': 'LAC Equity Lab'},\n",
       "  'sourceNote': 'The poverty gap captures the mean aggregate income or consumption shortfall relative to the poverty line across the entire population. It measures the total resources needed to bring all the poor to the level of the poverty line (averaged over the total population). ',\n",
       "  'sourceOrganization': 'LAC Equity Lab tabulations of SEDLAC (CEDLAS and the World Bank).',\n",
       "  'topics': [{'id': '11', 'value': 'Poverty '}]},\n",
       " {'id': '1.0.PSev.1.90usd',\n",
       "  'name': 'Poverty Severity ($1.90 a day)',\n",
       "  'unit': '',\n",
       "  'source': {'id': '37', 'value': 'LAC Equity Lab'},\n",
       "  'sourceNote': 'The poverty severity index combines information on both poverty and inequality among the poor by averaging the squares of the poverty gaps relative the poverty line',\n",
       "  'sourceOrganization': 'LAC Equity Lab tabulations of SEDLAC (CEDLAS and the World Bank).',\n",
       "  'topics': [{'id': '11', 'value': 'Poverty '}]},\n",
       " {'id': '1.0.PSev.2.5usd',\n",
       "  'name': 'Poverty Severity ($2.50 a day)',\n",
       "  'unit': '',\n",
       "  'source': {'id': '37', 'value': 'LAC Equity Lab'},\n",
       "  'sourceNote': 'The poverty severity index combines information on both poverty and inequality among the poor by averaging the squares of the poverty gaps relative the poverty line',\n",
       "  'sourceOrganization': 'LAC Equity Lab tabulations of SEDLAC (CEDLAS and the World Bank).',\n",
       "  'topics': [{'id': '11', 'value': 'Poverty '}]},\n",
       " {'id': '1.0.PSev.Poor4uds',\n",
       "  'name': 'Poverty Severity ($4 a day)',\n",
       "  'unit': '',\n",
       "  'source': {'id': '37', 'value': 'LAC Equity Lab'},\n",
       "  'sourceNote': 'The poverty severity index combines information on both poverty and inequality among the poor by averaging the squares of the poverty gaps relative the poverty line',\n",
       "  'sourceOrganization': 'LAC Equity Lab tabulations of SEDLAC (CEDLAS and the World Bank).',\n",
       "  'topics': [{'id': '11', 'value': 'Poverty '}]},\n",
       " {'id': '1.1.HCount.1.90usd',\n",
       "  'name': 'Poverty Headcount ($1.90 a day)-Rural',\n",
       "  'unit': '',\n",
       "  'source': {'id': '37', 'value': 'LAC Equity Lab'},\n",
       "  'sourceNote': 'The poverty headcount index measures the proportion of the population with daily per capita income (in 2011 PPP) below the poverty line.',\n",
       "  'sourceOrganization': 'LAC Equity Lab tabulations of SEDLAC (CEDLAS and the World Bank).',\n",
       "  'topics': [{'id': '11', 'value': 'Poverty '}]},\n",
       " {'id': '1.1.HCount.2.5usd',\n",
       "  'name': 'Poverty Headcount ($2.50 a day)-Rural',\n",
       "  'unit': '',\n",
       "  'source': {'id': '37', 'value': 'LAC Equity Lab'},\n",
       "  'sourceNote': 'The poverty headcount index measures the proportion of the population with daily per capita income (in 2005 PPP) below the poverty line.',\n",
       "  'sourceOrganization': 'LAC Equity Lab tabulations of SEDLAC (CEDLAS and the World Bank).',\n",
       "  'topics': [{'id': '11', 'value': 'Poverty '}]},\n",
       " {'id': '1.1.HCount.Mid10to50',\n",
       "  'name': 'Middle Class ($10-50 a day) Headcount-Rural',\n",
       "  'unit': '',\n",
       "  'source': {'id': '37', 'value': 'LAC Equity Lab'},\n",
       "  'sourceNote': 'The poverty headcount index measures the proportion of the population with daily per capita income (in 2005 PPP) below the poverty line.',\n",
       "  'sourceOrganization': 'LAC Equity Lab tabulations of SEDLAC (CEDLAS and the World Bank).',\n",
       "  'topics': [{'id': '11', 'value': 'Poverty '}]},\n",
       " {'id': '1.1.HCount.Ofcl',\n",
       "  'name': 'Official Moderate Poverty Rate- Rural',\n",
       "  'unit': '',\n",
       "  'source': {'id': '37', 'value': 'LAC Equity Lab'},\n",
       "  'sourceNote': 'The poverty headcount index measures the proportion of the population with daily per capita income below the official poverty line developed by each country.',\n",
       "  'sourceOrganization': 'LAC Equity Lab tabulations of data from National Statistical Offices.',\n",
       "  'topics': [{'id': '11', 'value': 'Poverty '}]},\n",
       " {'id': '1.1.HCount.Poor4uds',\n",
       "  'name': 'Poverty Headcount ($4 a day)-Rural',\n",
       "  'unit': '',\n",
       "  'source': {'id': '37', 'value': 'LAC Equity Lab'},\n",
       "  'sourceNote': 'The poverty headcount index measures the proportion of the population with daily per capita income (in 2005 PPP) below the poverty line.',\n",
       "  'sourceOrganization': 'LAC Equity Lab tabulations of SEDLAC (CEDLAS and the World Bank).',\n",
       "  'topics': [{'id': '11', 'value': 'Poverty '}]},\n",
       " {'id': '1.1.HCount.Vul4to10',\n",
       "  'name': 'Vulnerable ($4-10 a day) Headcount-Rural',\n",
       "  'unit': '',\n",
       "  'source': {'id': '37', 'value': 'LAC Equity Lab'},\n",
       "  'sourceNote': 'The poverty headcount index measures the proportion of the population with daily per capita income (in 2005 PPP) below the poverty line.',\n",
       "  'sourceOrganization': 'LAC Equity Lab tabulations of SEDLAC (CEDLAS and the World Bank).',\n",
       "  'topics': [{'id': '11', 'value': 'Poverty '}]},\n",
       " {'id': '1.1.PGap.1.90usd',\n",
       "  'name': 'Poverty Gap ($1.90 a day)-Rural',\n",
       "  'unit': '',\n",
       "  'source': {'id': '37', 'value': 'LAC Equity Lab'},\n",
       "  'sourceNote': 'The poverty gap captures the mean aggregate income or consumption shortfall relative to the poverty line across the entire population. It measures the total resources needed to bring all the poor to the level of the poverty line (averaged over the total population). ',\n",
       "  'sourceOrganization': 'LAC Equity Lab tabulations of SEDLAC (CEDLAS and the World Bank).',\n",
       "  'topics': [{'id': '11', 'value': 'Poverty '}]},\n",
       " {'id': '1.1.PGap.2.5usd',\n",
       "  'name': 'Poverty Gap ($2.50 a day)-Rural',\n",
       "  'unit': '',\n",
       "  'source': {'id': '37', 'value': 'LAC Equity Lab'},\n",
       "  'sourceNote': 'The poverty gap captures the mean aggregate income or consumption shortfall relative to the poverty line across the entire population. It measures the total resources needed to bring all the poor to the level of the poverty line (averaged over the total population). ',\n",
       "  'sourceOrganization': 'LAC Equity Lab tabulations of SEDLAC (CEDLAS and the World Bank).',\n",
       "  'topics': [{'id': '11', 'value': 'Poverty '}]},\n",
       " {'id': '1.1.PGap.Poor4uds',\n",
       "  'name': 'Poverty Gap ($4 a day)-Rural',\n",
       "  'unit': '',\n",
       "  'source': {'id': '37', 'value': 'LAC Equity Lab'},\n",
       "  'sourceNote': 'The poverty gap captures the mean aggregate income or consumption shortfall relative to the poverty line across the entire population. It measures the total resources needed to bring all the poor to the level of the poverty line (averaged over the total population). ',\n",
       "  'sourceOrganization': 'LAC Equity Lab tabulations of SEDLAC (CEDLAS and the World Bank).',\n",
       "  'topics': [{'id': '11', 'value': 'Poverty '}]},\n",
       " {'id': '1.1.PSev.1.90usd',\n",
       "  'name': 'Poverty Severity ($1.90 a day)-Rural',\n",
       "  'unit': '',\n",
       "  'source': {'id': '37', 'value': 'LAC Equity Lab'},\n",
       "  'sourceNote': 'The poverty severity index combines information on both poverty and inequality among the poor by averaging the squares of the poverty gaps relative the poverty line',\n",
       "  'sourceOrganization': 'LAC Equity Lab tabulations of SEDLAC (CEDLAS and the World Bank).',\n",
       "  'topics': [{'id': '11', 'value': 'Poverty '}]},\n",
       " {'id': '1.1.PSev.2.5usd',\n",
       "  'name': 'Poverty Severity ($2.50 a day)-Rural',\n",
       "  'unit': '',\n",
       "  'source': {'id': '37', 'value': 'LAC Equity Lab'},\n",
       "  'sourceNote': 'The poverty severity index combines information on both poverty and inequality among the poor by averaging the squares of the poverty gaps relative the poverty line',\n",
       "  'sourceOrganization': 'LAC Equity Lab tabulations of SEDLAC (CEDLAS and the World Bank).',\n",
       "  'topics': [{'id': '11', 'value': 'Poverty '}]},\n",
       " {'id': '1.1.PSev.Poor4uds',\n",
       "  'name': 'Poverty Severity ($4 a day)-Rural',\n",
       "  'unit': '',\n",
       "  'source': {'id': '37', 'value': 'LAC Equity Lab'},\n",
       "  'sourceNote': 'The poverty severity index combines information on both poverty and inequality among the poor by averaging the squares of the poverty gaps relative the poverty line',\n",
       "  'sourceOrganization': 'LAC Equity Lab tabulations of SEDLAC (CEDLAS and the World Bank).',\n",
       "  'topics': [{'id': '11', 'value': 'Poverty '}]},\n",
       " {'id': '1.1_ACCESS.ELECTRICITY.TOT',\n",
       "  'name': 'Access to electricity (% of total population)',\n",
       "  'unit': '',\n",
       "  'source': {'id': '35', 'value': 'Sustainable Energy for All'},\n",
       "  'sourceNote': 'Access to electricity is the percentage of population with access to electricity.',\n",
       "  'sourceOrganization': 'World Bank Global Electrification Database 2012',\n",
       "  'topics': []},\n",
       " {'id': '1.1_TOTAL.FINAL.ENERGY.CONSUM',\n",
       "  'name': 'Total final energy consumption (TFEC)',\n",
       "  'unit': '',\n",
       "  'source': {'id': '35', 'value': 'Sustainable Energy for All'},\n",
       "  'sourceNote': 'Total final energy consumption (TFEC): This indicator is derived form energy balances statistics and is equivalent to total final consumption excluding non-energy use.',\n",
       "  'sourceOrganization': 'World Bank and International Energy Agency (IEA Statistics © OECD/IEA, http://www.iea.org/stats/index.asp).  ',\n",
       "  'topics': []},\n",
       " {'id': '1.1_YOUTH.LITERACY.RATE',\n",
       "  'name': 'Literacy rate, youth total (% of people ages 15-24) ',\n",
       "  'unit': '',\n",
       "  'source': {'id': '34', 'value': 'Global Partnership for Education'},\n",
       "  'sourceNote': 'The number of persons aged 15 to 24 years who can both read and write with understanding a short simple statement on their everyday life, divided by the population in that age group. Generally, ‘literacy’ also encompasses ‘numeracy’, the ability to make simple arithmetic calculations. For further country-specific definition details please refer to the source of information, the UNESCO Institute for Statistics (UIS): www.uis.unesco.org',\n",
       "  'sourceOrganization': 'Source of information: UNESCO Institute for Statistics (www.uis.unesco.org). Please refer to its website for country-specific details on the specific national data sources and method used. ',\n",
       "  'topics': []},\n",
       " {'id': '1.2.HCount.1.90usd',\n",
       "  'name': 'Poverty Headcount ($1.90 a day)-Urban',\n",
       "  'unit': '',\n",
       "  'source': {'id': '37', 'value': 'LAC Equity Lab'},\n",
       "  'sourceNote': 'The poverty headcount index measures the proportion of the population with daily per capita income (in 2011 PPP) below the poverty line.',\n",
       "  'sourceOrganization': 'LAC Equity Lab tabulations of SEDLAC (CEDLAS and the World Bank).',\n",
       "  'topics': [{'id': '11', 'value': 'Poverty '}]},\n",
       " {'id': '1.2.HCount.2.5usd',\n",
       "  'name': 'Poverty Headcount ($2.50 a day)-Urban',\n",
       "  'unit': '',\n",
       "  'source': {'id': '37', 'value': 'LAC Equity Lab'},\n",
       "  'sourceNote': 'The poverty headcount index measures the proportion of the population with daily per capita income (in 2005 PPP) below the poverty line.',\n",
       "  'sourceOrganization': 'LAC Equity Lab tabulations of SEDLAC (CEDLAS and the World Bank).',\n",
       "  'topics': [{'id': '11', 'value': 'Poverty '}]},\n",
       " {'id': '1.2.HCount.Mid10to50',\n",
       "  'name': 'Middle Class ($10-50 a day) Headcount-Urban',\n",
       "  'unit': '',\n",
       "  'source': {'id': '37', 'value': 'LAC Equity Lab'},\n",
       "  'sourceNote': 'The poverty headcount index measures the proportion of the population with daily per capita income (in 2005 PPP) below the poverty line.',\n",
       "  'sourceOrganization': 'LAC Equity Lab tabulations of SEDLAC (CEDLAS and the World Bank).',\n",
       "  'topics': [{'id': '11', 'value': 'Poverty '}]},\n",
       " {'id': '1.2.HCount.Ofcl',\n",
       "  'name': 'Official Moderate Poverty Rate-Urban',\n",
       "  'unit': '',\n",
       "  'source': {'id': '37', 'value': 'LAC Equity Lab'},\n",
       "  'sourceNote': 'The poverty headcount index measures the proportion of the population with daily per capita income below the official poverty line developed by each country.',\n",
       "  'sourceOrganization': 'LAC Equity Lab tabulations of data from National Statistical Offices.',\n",
       "  'topics': [{'id': '11', 'value': 'Poverty '}]},\n",
       " {'id': '1.2.HCount.Poor4uds',\n",
       "  'name': 'Poverty Headcount ($4 a day)-Urban',\n",
       "  'unit': '',\n",
       "  'source': {'id': '37', 'value': 'LAC Equity Lab'},\n",
       "  'sourceNote': 'The poverty headcount index measures the proportion of the population with daily per capita income (in 2005 PPP) below the poverty line.',\n",
       "  'sourceOrganization': 'LAC Equity Lab tabulations of SEDLAC (CEDLAS and the World Bank).',\n",
       "  'topics': [{'id': '11', 'value': 'Poverty '}]},\n",
       " {'id': '1.2.HCount.Vul4to10',\n",
       "  'name': 'Vulnerable ($4-10 a day) Headcount-Urban',\n",
       "  'unit': '',\n",
       "  'source': {'id': '37', 'value': 'LAC Equity Lab'},\n",
       "  'sourceNote': 'The poverty headcount index measures the proportion of the population with daily per capita income (in 2005 PPP) below the poverty line.',\n",
       "  'sourceOrganization': 'LAC Equity Lab tabulations of SEDLAC (CEDLAS and the World Bank).',\n",
       "  'topics': [{'id': '11', 'value': 'Poverty '}]},\n",
       " {'id': '1.2.PGap.1.90usd',\n",
       "  'name': 'Poverty Gap ($1.90 a day)-Urban',\n",
       "  'unit': '',\n",
       "  'source': {'id': '37', 'value': 'LAC Equity Lab'},\n",
       "  'sourceNote': 'The poverty gap captures the mean aggregate income or consumption shortfall relative to the poverty line across the entire population. It measures the total resources needed to bring all the poor to the level of the poverty line (averaged over the total population). ',\n",
       "  'sourceOrganization': 'LAC Equity Lab tabulations of SEDLAC (CEDLAS and the World Bank).',\n",
       "  'topics': [{'id': '11', 'value': 'Poverty '}]},\n",
       " {'id': '1.2.PGap.2.5usd',\n",
       "  'name': 'Poverty Gap ($2.50 a day)-Urban',\n",
       "  'unit': '',\n",
       "  'source': {'id': '37', 'value': 'LAC Equity Lab'},\n",
       "  'sourceNote': 'The poverty gap captures the mean aggregate income or consumption shortfall relative to the poverty line across the entire population. It measures the total resources needed to bring all the poor to the level of the poverty line (averaged over the total population). ',\n",
       "  'sourceOrganization': 'LAC Equity Lab tabulations of SEDLAC (CEDLAS and the World Bank).',\n",
       "  'topics': [{'id': '11', 'value': 'Poverty '}]},\n",
       " {'id': '1.2.PGap.Poor4uds',\n",
       "  'name': 'Poverty Gap ($4 a day)-Urban',\n",
       "  'unit': '',\n",
       "  'source': {'id': '37', 'value': 'LAC Equity Lab'},\n",
       "  'sourceNote': 'The poverty gap captures the mean aggregate income or consumption shortfall relative to the poverty line across the entire population. It measures the total resources needed to bring all the poor to the level of the poverty line (averaged over the total population). ',\n",
       "  'sourceOrganization': 'LAC Equity Lab tabulations of SEDLAC (CEDLAS and the World Bank).',\n",
       "  'topics': [{'id': '11', 'value': 'Poverty '}]},\n",
       " {'id': '1.2.PSev.1.90usd',\n",
       "  'name': 'Poverty Severity ($1.90 a day)-Urban',\n",
       "  'unit': '',\n",
       "  'source': {'id': '37', 'value': 'LAC Equity Lab'},\n",
       "  'sourceNote': 'The poverty severity index combines information on both poverty and inequality among the poor by averaging the squares of the poverty gaps relative the poverty line',\n",
       "  'sourceOrganization': 'LAC Equity Lab tabulations of SEDLAC (CEDLAS and the World Bank).',\n",
       "  'topics': [{'id': '11', 'value': 'Poverty '}]},\n",
       " {'id': '1.2.PSev.2.5usd',\n",
       "  'name': 'Poverty Severity ($2.50 a day)-Urban',\n",
       "  'unit': '',\n",
       "  'source': {'id': '37', 'value': 'LAC Equity Lab'},\n",
       "  'sourceNote': 'The poverty severity index combines information on both poverty and inequality among the poor by averaging the squares of the poverty gaps relative the poverty line',\n",
       "  'sourceOrganization': 'LAC Equity Lab tabulations of SEDLAC (CEDLAS and the World Bank).',\n",
       "  'topics': [{'id': '11', 'value': 'Poverty '}]},\n",
       " {'id': '1.2.PSev.Poor4uds',\n",
       "  'name': 'Poverty Severity ($4 a day)-Urban',\n",
       "  'unit': '',\n",
       "  'source': {'id': '37', 'value': 'LAC Equity Lab'},\n",
       "  'sourceNote': 'The poverty severity index combines information on both poverty and inequality among the poor by averaging the squares of the poverty gaps relative the poverty line',\n",
       "  'sourceOrganization': 'LAC Equity Lab tabulations of SEDLAC (CEDLAS and the World Bank).',\n",
       "  'topics': [{'id': '11', 'value': 'Poverty '}]},\n",
       " {'id': '1.2_ACCESS.ELECTRICITY.RURAL',\n",
       "  'name': 'Access to electricity (% of rural population)',\n",
       "  'unit': '',\n",
       "  'source': {'id': '35', 'value': 'Sustainable Energy for All'},\n",
       "  'sourceNote': 'Access to electricity is the percentage of rural population with access to electricity. ',\n",
       "  'sourceOrganization': 'World Bank Global Electrification Database 2013',\n",
       "  'topics': []},\n",
       " {'id': '1.3_ACCESS.ELECTRICITY.URBAN',\n",
       "  'name': 'Access to electricity (% of urban population)',\n",
       "  'unit': '',\n",
       "  'source': {'id': '35', 'value': 'Sustainable Energy for All'},\n",
       "  'sourceNote': 'Access to electricity is the percentage of total population with access to electricity. ',\n",
       "  'sourceOrganization': 'World Bank Global Electrification Database 2014',\n",
       "  'topics': []},\n",
       " {'id': '100000',\n",
       "  'name': '100000:GROSS DOMESTIC PRODUCT',\n",
       "  'unit': '',\n",
       "  'source': {'id': '71',\n",
       "   'value': 'International Comparison Program (ICP) 2005'},\n",
       "  'sourceNote': '',\n",
       "  'sourceOrganization': '',\n",
       "  'topics': []},\n",
       " {'id': '1000000',\n",
       "  'name': '1000000:GROSS DOMESTIC PRODUCT',\n",
       "  'unit': '',\n",
       "  'source': {'id': '78', 'value': 'ICP 2017'},\n",
       "  'sourceNote': '',\n",
       "  'sourceOrganization': '',\n",
       "  'topics': []},\n",
       " {'id': '110000',\n",
       "  'name': '110000:INDIVIDUAL CONSUMPTION EXPENDITURE BY HOUSEHOLDS',\n",
       "  'unit': '',\n",
       "  'source': {'id': '71',\n",
       "   'value': 'International Comparison Program (ICP) 2005'},\n",
       "  'sourceNote': '',\n",
       "  'sourceOrganization': '',\n",
       "  'topics': []},\n",
       " {'id': '110100',\n",
       "  'name': '110100:FOOD AND NON-ALCOHOLIC BEVERAGES',\n",
       "  'unit': '',\n",
       "  'source': {'id': '71',\n",
       "   'value': 'International Comparison Program (ICP) 2005'},\n",
       "  'sourceNote': '',\n",
       "  'sourceOrganization': '',\n",
       "  'topics': []},\n",
       " {'id': '1101000',\n",
       "  'name': '1101000:FOOD AND NON-ALCOHOLIC BEVERAGES',\n",
       "  'unit': '',\n",
       "  'source': {'id': '78', 'value': 'ICP 2017'},\n",
       "  'sourceNote': '',\n",
       "  'sourceOrganization': '',\n",
       "  'topics': []},\n",
       " {'id': '110110',\n",
       "  'name': '110110:FOOD',\n",
       "  'unit': '',\n",
       "  'source': {'id': '71',\n",
       "   'value': 'International Comparison Program (ICP) 2005'},\n",
       "  'sourceNote': '',\n",
       "  'sourceOrganization': '',\n",
       "  'topics': []},\n",
       " {'id': '1101100',\n",
       "  'name': '1101100:FOOD',\n",
       "  'unit': '',\n",
       "  'source': {'id': '78', 'value': 'ICP 2017'},\n",
       "  'sourceNote': '',\n",
       "  'sourceOrganization': '',\n",
       "  'topics': []},\n",
       " {'id': '110111',\n",
       "  'name': '110111:Bread and cereals (Class)',\n",
       "  'unit': '',\n",
       "  'source': {'id': '71',\n",
       "   'value': 'International Comparison Program (ICP) 2005'},\n",
       "  'sourceNote': '',\n",
       "  'sourceOrganization': '',\n",
       "  'topics': []},\n",
       " {'id': '1101110',\n",
       "  'name': '1101110:Bread and cereals',\n",
       "  'unit': '',\n",
       "  'source': {'id': '78', 'value': 'ICP 2017'},\n",
       "  'sourceNote': '',\n",
       "  'sourceOrganization': '',\n",
       "  'topics': [{}]}]"
      ]
     },
     "execution_count": 21,
     "metadata": {},
     "output_type": "execute_result"
    }
   ],
   "source": [
    "indicators_data[1] # во втором — сами данные, это страндартная практика."
   ]
  },
  {
   "cell_type": "code",
   "execution_count": 22,
   "metadata": {
    "id": "q048i_PSo2sw",
    "scrolled": true
   },
   "outputs": [
    {
     "data": {
      "text/plain": [
       "50"
      ]
     },
     "execution_count": 22,
     "metadata": {},
     "output_type": "execute_result"
    }
   ],
   "source": [
    "len(indicators_data[1])"
   ]
  },
  {
   "cell_type": "markdown",
   "metadata": {
    "id": "-xSlk7dBo2sw"
   },
   "source": [
    "В описании данных мы видим, что всего показателей 20083, попробуем получить все показатели."
   ]
  },
  {
   "cell_type": "code",
   "execution_count": 27,
   "metadata": {
    "id": "NYjwS2Bzo2sw",
    "scrolled": true
   },
   "outputs": [],
   "source": [
    "indicators = requests.get(url=INDICATORS_URL # ссылка на API\n",
    "                          , params={'format':'json','per_page':20083} # параметры запроса\n",
    "                         )\n",
    "# вместо числа 20083 можно передать ссылку на это же значение, например вот так:  indicators_data[0]['total'] "
   ]
  },
  {
   "cell_type": "markdown",
   "metadata": {
    "id": "N3z00JTzo2sw"
   },
   "source": [
    "Всё получилось!"
   ]
  },
  {
   "cell_type": "code",
   "execution_count": 32,
   "metadata": {
    "id": "-evUM3j1o2sw",
    "scrolled": true
   },
   "outputs": [
    {
     "data": {
      "text/plain": [
       "<Response [200]>"
      ]
     },
     "execution_count": 32,
     "metadata": {},
     "output_type": "execute_result"
    }
   ],
   "source": [
    "indicators"
   ]
  },
  {
   "cell_type": "markdown",
   "metadata": {
    "id": "Rv2lrX-5o2sw"
   },
   "source": [
    "По правилам хорошего тона закрываем соединение с сервером методом `.close()`, и дальше будем работать с полученными данными"
   ]
  },
  {
   "cell_type": "code",
   "execution_count": 33,
   "metadata": {
    "id": "sNJoqwAxo2sx",
    "scrolled": true
   },
   "outputs": [],
   "source": [
    "indicators.connection.close()"
   ]
  },
  {
   "cell_type": "markdown",
   "metadata": {
    "id": "3Ib25qJ9o2s1"
   },
   "source": [
    "Чтобы было удобнее изучать данные, можно записать их в DataFrame"
   ]
  },
  {
   "cell_type": "code",
   "execution_count": 34,
   "metadata": {
    "id": "kTYWHayAo2s1",
    "scrolled": true
   },
   "outputs": [
    {
     "data": {
      "text/plain": [
       "{'page': 1, 'pages': 489, 'per_page': '50', 'total': 24402}"
      ]
     },
     "execution_count": 34,
     "metadata": {},
     "output_type": "execute_result"
    }
   ],
   "source": [
    "indicators_data = json.loads(indicators.content) # приводим к списку с вложенными словарями\n",
    "indicators_data[0] # первый элемент — словарь с описанием данных"
   ]
  },
  {
   "cell_type": "markdown",
   "metadata": {
    "id": "VXj9scQ2o2s1"
   },
   "source": [
    "Как и в прошлый раз, используем `pd.DataFrame`"
   ]
  },
  {
   "cell_type": "code",
   "execution_count": 35,
   "metadata": {
    "id": "MHdVcOeqo2s1",
    "scrolled": true
   },
   "outputs": [],
   "source": [
    "indicators_df = pd.DataFrame(indicators_data[1]) # берем второй элемент — словарь с данными"
   ]
  },
  {
   "cell_type": "code",
   "execution_count": 36,
   "metadata": {
    "id": "ZAMVm1DZo2s2",
    "scrolled": true
   },
   "outputs": [
    {
     "data": {
      "text/html": [
       "<div>\n",
       "<style scoped>\n",
       "    .dataframe tbody tr th:only-of-type {\n",
       "        vertical-align: middle;\n",
       "    }\n",
       "\n",
       "    .dataframe tbody tr th {\n",
       "        vertical-align: top;\n",
       "    }\n",
       "\n",
       "    .dataframe thead th {\n",
       "        text-align: right;\n",
       "    }\n",
       "</style>\n",
       "<table border=\"1\" class=\"dataframe\">\n",
       "  <thead>\n",
       "    <tr style=\"text-align: right;\">\n",
       "      <th></th>\n",
       "      <th>id</th>\n",
       "      <th>name</th>\n",
       "      <th>unit</th>\n",
       "      <th>source</th>\n",
       "      <th>sourceNote</th>\n",
       "      <th>sourceOrganization</th>\n",
       "      <th>topics</th>\n",
       "    </tr>\n",
       "  </thead>\n",
       "  <tbody>\n",
       "    <tr>\n",
       "      <th>0</th>\n",
       "      <td>1.0.HCount.1.90usd</td>\n",
       "      <td>Poverty Headcount ($1.90 a day)</td>\n",
       "      <td></td>\n",
       "      <td>{'id': '37', 'value': 'LAC Equity Lab'}</td>\n",
       "      <td>The poverty headcount index measures the propo...</td>\n",
       "      <td>LAC Equity Lab tabulations of SEDLAC (CEDLAS a...</td>\n",
       "      <td>[{'id': '11', 'value': 'Poverty '}]</td>\n",
       "    </tr>\n",
       "    <tr>\n",
       "      <th>1</th>\n",
       "      <td>1.0.HCount.2.5usd</td>\n",
       "      <td>Poverty Headcount ($2.50 a day)</td>\n",
       "      <td></td>\n",
       "      <td>{'id': '37', 'value': 'LAC Equity Lab'}</td>\n",
       "      <td>The poverty headcount index measures the propo...</td>\n",
       "      <td>LAC Equity Lab tabulations of SEDLAC (CEDLAS a...</td>\n",
       "      <td>[{'id': '11', 'value': 'Poverty '}]</td>\n",
       "    </tr>\n",
       "    <tr>\n",
       "      <th>2</th>\n",
       "      <td>1.0.HCount.Mid10to50</td>\n",
       "      <td>Middle Class ($10-50 a day) Headcount</td>\n",
       "      <td></td>\n",
       "      <td>{'id': '37', 'value': 'LAC Equity Lab'}</td>\n",
       "      <td>The poverty headcount index measures the propo...</td>\n",
       "      <td>LAC Equity Lab tabulations of SEDLAC (CEDLAS a...</td>\n",
       "      <td>[{'id': '11', 'value': 'Poverty '}]</td>\n",
       "    </tr>\n",
       "    <tr>\n",
       "      <th>3</th>\n",
       "      <td>1.0.HCount.Ofcl</td>\n",
       "      <td>Official Moderate Poverty Rate-National</td>\n",
       "      <td></td>\n",
       "      <td>{'id': '37', 'value': 'LAC Equity Lab'}</td>\n",
       "      <td>The poverty headcount index measures the propo...</td>\n",
       "      <td>LAC Equity Lab tabulations of data from Nation...</td>\n",
       "      <td>[{'id': '11', 'value': 'Poverty '}]</td>\n",
       "    </tr>\n",
       "    <tr>\n",
       "      <th>4</th>\n",
       "      <td>1.0.HCount.Poor4uds</td>\n",
       "      <td>Poverty Headcount ($4 a day)</td>\n",
       "      <td></td>\n",
       "      <td>{'id': '37', 'value': 'LAC Equity Lab'}</td>\n",
       "      <td>The poverty headcount index measures the propo...</td>\n",
       "      <td>LAC Equity Lab tabulations of SEDLAC (CEDLAS a...</td>\n",
       "      <td>[{'id': '11', 'value': 'Poverty '}]</td>\n",
       "    </tr>\n",
       "  </tbody>\n",
       "</table>\n",
       "</div>"
      ],
      "text/plain": [
       "                     id                                     name unit  \\\n",
       "0    1.0.HCount.1.90usd          Poverty Headcount ($1.90 a day)        \n",
       "1     1.0.HCount.2.5usd          Poverty Headcount ($2.50 a day)        \n",
       "2  1.0.HCount.Mid10to50    Middle Class ($10-50 a day) Headcount        \n",
       "3       1.0.HCount.Ofcl  Official Moderate Poverty Rate-National        \n",
       "4   1.0.HCount.Poor4uds             Poverty Headcount ($4 a day)        \n",
       "\n",
       "                                    source  \\\n",
       "0  {'id': '37', 'value': 'LAC Equity Lab'}   \n",
       "1  {'id': '37', 'value': 'LAC Equity Lab'}   \n",
       "2  {'id': '37', 'value': 'LAC Equity Lab'}   \n",
       "3  {'id': '37', 'value': 'LAC Equity Lab'}   \n",
       "4  {'id': '37', 'value': 'LAC Equity Lab'}   \n",
       "\n",
       "                                          sourceNote  \\\n",
       "0  The poverty headcount index measures the propo...   \n",
       "1  The poverty headcount index measures the propo...   \n",
       "2  The poverty headcount index measures the propo...   \n",
       "3  The poverty headcount index measures the propo...   \n",
       "4  The poverty headcount index measures the propo...   \n",
       "\n",
       "                                  sourceOrganization  \\\n",
       "0  LAC Equity Lab tabulations of SEDLAC (CEDLAS a...   \n",
       "1  LAC Equity Lab tabulations of SEDLAC (CEDLAS a...   \n",
       "2  LAC Equity Lab tabulations of SEDLAC (CEDLAS a...   \n",
       "3  LAC Equity Lab tabulations of data from Nation...   \n",
       "4  LAC Equity Lab tabulations of SEDLAC (CEDLAS a...   \n",
       "\n",
       "                                topics  \n",
       "0  [{'id': '11', 'value': 'Poverty '}]  \n",
       "1  [{'id': '11', 'value': 'Poverty '}]  \n",
       "2  [{'id': '11', 'value': 'Poverty '}]  \n",
       "3  [{'id': '11', 'value': 'Poverty '}]  \n",
       "4  [{'id': '11', 'value': 'Poverty '}]  "
      ]
     },
     "execution_count": 36,
     "metadata": {},
     "output_type": "execute_result"
    }
   ],
   "source": [
    "indicators_df.head()"
   ]
  },
  {
   "cell_type": "code",
   "execution_count": 37,
   "metadata": {
    "id": "zXNBJxcuo2s2",
    "scrolled": true
   },
   "outputs": [
    {
     "name": "stdout",
     "output_type": "stream",
     "text": [
      "<class 'pandas.core.frame.DataFrame'>\n",
      "RangeIndex: 50 entries, 0 to 49\n",
      "Data columns (total 7 columns):\n",
      " #   Column              Non-Null Count  Dtype \n",
      "---  ------              --------------  ----- \n",
      " 0   id                  50 non-null     object\n",
      " 1   name                50 non-null     object\n",
      " 2   unit                50 non-null     object\n",
      " 3   source              50 non-null     object\n",
      " 4   sourceNote          50 non-null     object\n",
      " 5   sourceOrganization  50 non-null     object\n",
      " 6   topics              50 non-null     object\n",
      "dtypes: object(7)\n",
      "memory usage: 2.9+ KB\n"
     ]
    }
   ],
   "source": [
    "indicators_df.info()"
   ]
  },
  {
   "cell_type": "markdown",
   "metadata": {
    "id": "lF9aPS-1o2s2"
   },
   "source": [
    "### Задача 2 \n",
    "\n",
    "Посмотрим динамику ВВП по странам и группам стран\n"
   ]
  },
  {
   "cell_type": "markdown",
   "metadata": {
    "id": "NC4I_Wdao2s2"
   },
   "source": [
    "Мы выгрузили все показатели, которые нам отдал World Bank, а нам нужны только ВВП стран за определенный период.\n",
    "\n",
    "Нужно передать в запрос идентификатор показателя, который мы хотим. Идентификатор ВВП (GDP) `\"NY.GDP.MKTP.KD.ZG\"`\n",
    "\n",
    "Его можно подсмотреть, изучив документацию, исследовав данные или просто загуглив :)"
   ]
  },
  {
   "cell_type": "markdown",
   "metadata": {
    "id": "_SuT8sAvo2s2"
   },
   "source": [
    "### Доступ к данным"
   ]
  },
  {
   "cell_type": "markdown",
   "metadata": {
    "id": "S80OpZoSo2s2"
   },
   "source": [
    "Идем на страницу с описанием типичного способа обращения к API [**API Basic Call Structures**](https://datahelpdesk.worldbank.org/knowledgebase/articles/898581-api-basic-call-structures)"
   ]
  },
  {
   "cell_type": "markdown",
   "metadata": {
    "id": "asSjdImto2s2"
   },
   "source": [
    "Пример показывает, как получить данные за период времени:\n",
    "\n",
    "http://api.worldbank.org/v2/country/all/indicator/SP.POP.TOTL?date=2000:2001\n",
    "\n",
    "1. Сначала указываем показатель в URL\n",
    "2. Потом в качестве параметра передаем период"
   ]
  },
  {
   "cell_type": "code",
   "execution_count": 38,
   "metadata": {
    "id": "VfHF8XXKo2s2",
    "scrolled": true
   },
   "outputs": [],
   "source": [
    "URL_DATA = \"http://api.worldbank.org/v2/country/all/indicator/NY.GDP.MKTP.KD.ZG\"\n",
    "\n",
    "params={'format':'json',\n",
    "        'date':'2000:2024'}"
   ]
  },
  {
   "cell_type": "code",
   "execution_count": 39,
   "metadata": {
    "id": "KWDsnFsbo2s3",
    "scrolled": true
   },
   "outputs": [],
   "source": [
    "gdp_growth = requests.get(url=URL_DATA, # строка с запросом к API\n",
    "                          params=params # параметры запроса\n",
    "                         )"
   ]
  },
  {
   "cell_type": "markdown",
   "metadata": {
    "id": "kZJrhtgmo2s3"
   },
   "source": [
    "Посмотрим на ответ:"
   ]
  },
  {
   "cell_type": "code",
   "execution_count": 40,
   "metadata": {
    "id": "iyvFv9GJo2s3",
    "scrolled": true
   },
   "outputs": [
    {
     "data": {
      "text/plain": [
       "<Response [200]>"
      ]
     },
     "execution_count": 40,
     "metadata": {},
     "output_type": "execute_result"
    }
   ],
   "source": [
    "gdp_growth"
   ]
  },
  {
   "cell_type": "code",
   "execution_count": 41,
   "metadata": {
    "id": "2aea8lX_o2s3",
    "scrolled": true
   },
   "outputs": [
    {
     "data": {
      "text/plain": [
       "{'page': 1,\n",
       " 'pages': 123,\n",
       " 'per_page': 50,\n",
       " 'total': 6118,\n",
       " 'sourceid': '2',\n",
       " 'lastupdated': '2024-02-21'}"
      ]
     },
     "execution_count": 41,
     "metadata": {},
     "output_type": "execute_result"
    }
   ],
   "source": [
    "gdp_growth.connection.close() # закроем коннект\n",
    "gdp_growth_data = json.loads(gdp_growth.content) # распарсим содержимое ответа\n",
    "gdp_growth_data[0]"
   ]
  },
  {
   "cell_type": "code",
   "execution_count": 42,
   "metadata": {
    "id": "Nu0OE9lDo2s3",
    "scrolled": true
   },
   "outputs": [
    {
     "data": {
      "text/plain": [
       "50"
      ]
     },
     "execution_count": 42,
     "metadata": {},
     "output_type": "execute_result"
    }
   ],
   "source": [
    "len(gdp_growth_data[1])"
   ]
  },
  {
   "cell_type": "markdown",
   "metadata": {
    "id": "Xbk1GSRyo2s3"
   },
   "source": [
    "Снова у нас только 1 страница, с 50 записями или строками. Давайте вытащим все записи."
   ]
  },
  {
   "cell_type": "code",
   "execution_count": 76,
   "metadata": {
    "id": "bzlYrSNGo2s4",
    "scrolled": true
   },
   "outputs": [],
   "source": [
    "gdp_growth = requests.get(url=URL_DATA # ссылка на API\n",
    "                          , params={'format':'json',\n",
    "                                    'date':'2000:2024',\n",
    "                                    'per_page':gdp_growth_data[0]['total']\n",
    "                                   } # параметры запроса\n",
    "                         )"
   ]
  },
  {
   "cell_type": "code",
   "execution_count": 77,
   "metadata": {
    "id": "0CVYzCIWo2s4",
    "scrolled": true
   },
   "outputs": [],
   "source": [
    "gdp_growth.connection.close()"
   ]
  },
  {
   "cell_type": "markdown",
   "metadata": {
    "id": "Jwa2zLllo2s4"
   },
   "source": [
    "Что мы получили на этот раз?"
   ]
  },
  {
   "cell_type": "code",
   "execution_count": 78,
   "metadata": {
    "id": "nEJoz3s3o2s4"
   },
   "outputs": [
    {
     "data": {
      "text/plain": [
       "{'page': 1,\n",
       " 'pages': 2,\n",
       " 'per_page': 5586,\n",
       " 'total': 6118,\n",
       " 'sourceid': '2',\n",
       " 'lastupdated': '2024-02-21'}"
      ]
     },
     "execution_count": 78,
     "metadata": {},
     "output_type": "execute_result"
    }
   ],
   "source": [
    "### gdp_growth_data = json.loads(gdp_growth.content)\n",
    "gdp_growth_data[0]"
   ]
  },
  {
   "cell_type": "markdown",
   "metadata": {
    "id": "Apsyisd0o2s4"
   },
   "source": [
    "Все данные на месте, запишем их в DataFrame"
   ]
  },
  {
   "cell_type": "code",
   "execution_count": 79,
   "metadata": {
    "id": "wqsV6k-So2s4",
    "scrolled": true
   },
   "outputs": [],
   "source": [
    "gdp_growth_df = pd.DataFrame(gdp_growth_data[1])"
   ]
  },
  {
   "cell_type": "code",
   "execution_count": 80,
   "metadata": {
    "id": "aDJBoE2_o2s4",
    "scrolled": true
   },
   "outputs": [
    {
     "data": {
      "text/html": [
       "<div>\n",
       "<style scoped>\n",
       "    .dataframe tbody tr th:only-of-type {\n",
       "        vertical-align: middle;\n",
       "    }\n",
       "\n",
       "    .dataframe tbody tr th {\n",
       "        vertical-align: top;\n",
       "    }\n",
       "\n",
       "    .dataframe thead th {\n",
       "        text-align: right;\n",
       "    }\n",
       "</style>\n",
       "<table border=\"1\" class=\"dataframe\">\n",
       "  <thead>\n",
       "    <tr style=\"text-align: right;\">\n",
       "      <th></th>\n",
       "      <th>indicator</th>\n",
       "      <th>country</th>\n",
       "      <th>countryiso3code</th>\n",
       "      <th>date</th>\n",
       "      <th>value</th>\n",
       "      <th>unit</th>\n",
       "      <th>obs_status</th>\n",
       "      <th>decimal</th>\n",
       "    </tr>\n",
       "  </thead>\n",
       "  <tbody>\n",
       "    <tr>\n",
       "      <th>0</th>\n",
       "      <td>{'id': 'NY.GDP.MKTP.KD.ZG', 'value': 'GDP grow...</td>\n",
       "      <td>{'id': 'ZH', 'value': 'Africa Eastern and Sout...</td>\n",
       "      <td>AFE</td>\n",
       "      <td>2022</td>\n",
       "      <td>3.435138</td>\n",
       "      <td></td>\n",
       "      <td></td>\n",
       "      <td>1</td>\n",
       "    </tr>\n",
       "    <tr>\n",
       "      <th>1</th>\n",
       "      <td>{'id': 'NY.GDP.MKTP.KD.ZG', 'value': 'GDP grow...</td>\n",
       "      <td>{'id': 'ZH', 'value': 'Africa Eastern and Sout...</td>\n",
       "      <td>AFE</td>\n",
       "      <td>2021</td>\n",
       "      <td>4.300441</td>\n",
       "      <td></td>\n",
       "      <td></td>\n",
       "      <td>1</td>\n",
       "    </tr>\n",
       "    <tr>\n",
       "      <th>2</th>\n",
       "      <td>{'id': 'NY.GDP.MKTP.KD.ZG', 'value': 'GDP grow...</td>\n",
       "      <td>{'id': 'ZH', 'value': 'Africa Eastern and Sout...</td>\n",
       "      <td>AFE</td>\n",
       "      <td>2020</td>\n",
       "      <td>-2.799038</td>\n",
       "      <td></td>\n",
       "      <td></td>\n",
       "      <td>1</td>\n",
       "    </tr>\n",
       "    <tr>\n",
       "      <th>3</th>\n",
       "      <td>{'id': 'NY.GDP.MKTP.KD.ZG', 'value': 'GDP grow...</td>\n",
       "      <td>{'id': 'ZH', 'value': 'Africa Eastern and Sout...</td>\n",
       "      <td>AFE</td>\n",
       "      <td>2019</td>\n",
       "      <td>2.040617</td>\n",
       "      <td></td>\n",
       "      <td></td>\n",
       "      <td>1</td>\n",
       "    </tr>\n",
       "    <tr>\n",
       "      <th>4</th>\n",
       "      <td>{'id': 'NY.GDP.MKTP.KD.ZG', 'value': 'GDP grow...</td>\n",
       "      <td>{'id': 'ZH', 'value': 'Africa Eastern and Sout...</td>\n",
       "      <td>AFE</td>\n",
       "      <td>2018</td>\n",
       "      <td>2.491355</td>\n",
       "      <td></td>\n",
       "      <td></td>\n",
       "      <td>1</td>\n",
       "    </tr>\n",
       "  </tbody>\n",
       "</table>\n",
       "</div>"
      ],
      "text/plain": [
       "                                           indicator  \\\n",
       "0  {'id': 'NY.GDP.MKTP.KD.ZG', 'value': 'GDP grow...   \n",
       "1  {'id': 'NY.GDP.MKTP.KD.ZG', 'value': 'GDP grow...   \n",
       "2  {'id': 'NY.GDP.MKTP.KD.ZG', 'value': 'GDP grow...   \n",
       "3  {'id': 'NY.GDP.MKTP.KD.ZG', 'value': 'GDP grow...   \n",
       "4  {'id': 'NY.GDP.MKTP.KD.ZG', 'value': 'GDP grow...   \n",
       "\n",
       "                                             country countryiso3code  date  \\\n",
       "0  {'id': 'ZH', 'value': 'Africa Eastern and Sout...             AFE  2022   \n",
       "1  {'id': 'ZH', 'value': 'Africa Eastern and Sout...             AFE  2021   \n",
       "2  {'id': 'ZH', 'value': 'Africa Eastern and Sout...             AFE  2020   \n",
       "3  {'id': 'ZH', 'value': 'Africa Eastern and Sout...             AFE  2019   \n",
       "4  {'id': 'ZH', 'value': 'Africa Eastern and Sout...             AFE  2018   \n",
       "\n",
       "      value unit obs_status  decimal  \n",
       "0  3.435138                        1  \n",
       "1  4.300441                        1  \n",
       "2 -2.799038                        1  \n",
       "3  2.040617                        1  \n",
       "4  2.491355                        1  "
      ]
     },
     "execution_count": 80,
     "metadata": {},
     "output_type": "execute_result"
    }
   ],
   "source": [
    "gdp_growth_df.head()"
   ]
  },
  {
   "cell_type": "markdown",
   "metadata": {
    "id": "JOUBylu0o2s4"
   },
   "source": [
    "Давайте немного почистим полученные данные и отрисуем динамику изменения ВВП по экономическим макрорегионам.\n",
    "\n",
    "1. В колонке `country` лежит словарь, в котором название страны можно получить по ключу `value` . Напишем функцию, которая принимает на вход словарь и возвращает значение по ключу `value`\n",
    "2. После создадим колонку `country_name`, в которую запишем результат выполнения этой функции над колонкой `country`"
   ]
  },
  {
   "cell_type": "code",
   "execution_count": 85,
   "metadata": {
    "id": "vMn7NxHNo2s4",
    "scrolled": true
   },
   "outputs": [],
   "source": [
    "def get_country_name(x):\n",
    "    return x['value']\n",
    "\n",
    "gdp_growth_df['country_name'] = gdp_growth_df['country'].apply(get_country_name)"
   ]
  },
  {
   "cell_type": "markdown",
   "metadata": {
    "id": "JaiNI6Zoo2s5"
   },
   "source": [
    "Когда мы работаем с очень простыми функциями, можно не определять их, а использовать `lambda функции`. \n",
    "\n",
    "<img style='float:left' src=\"https://res.cloudinary.com/djcwxgbfz/image/upload/v1610963213/skills/Shpargalka_8.png\" width=\"700\"/> "
   ]
  },
  {
   "cell_type": "code",
   "execution_count": 84,
   "metadata": {
    "id": "LVLOMMEao2s5",
    "scrolled": true
   },
   "outputs": [],
   "source": [
    "gdp_growth_df['country_name'] = gdp_growth_df['country'].apply(lambda x: x['value']) "
   ]
  },
  {
   "cell_type": "markdown",
   "metadata": {
    "id": "HQtsCGE9o2s5"
   },
   "source": [
    "Найдем `значения по годам и странам`, для этого создадим сводную таблицу с помощью метода `.pivot()`"
   ]
  },
  {
   "cell_type": "code",
   "execution_count": 86,
   "metadata": {
    "id": "PY6dGbHAo2s5",
    "scrolled": true
   },
   "outputs": [
    {
     "data": {
      "text/html": [
       "<div>\n",
       "<style scoped>\n",
       "    .dataframe tbody tr th:only-of-type {\n",
       "        vertical-align: middle;\n",
       "    }\n",
       "\n",
       "    .dataframe tbody tr th {\n",
       "        vertical-align: top;\n",
       "    }\n",
       "\n",
       "    .dataframe thead th {\n",
       "        text-align: right;\n",
       "    }\n",
       "</style>\n",
       "<table border=\"1\" class=\"dataframe\">\n",
       "  <thead>\n",
       "    <tr style=\"text-align: right;\">\n",
       "      <th>country_name</th>\n",
       "      <th>Afghanistan</th>\n",
       "      <th>Africa Eastern and Southern</th>\n",
       "      <th>Africa Western and Central</th>\n",
       "      <th>Albania</th>\n",
       "      <th>Algeria</th>\n",
       "      <th>American Samoa</th>\n",
       "      <th>Andorra</th>\n",
       "      <th>Angola</th>\n",
       "      <th>Antigua and Barbuda</th>\n",
       "      <th>Arab World</th>\n",
       "      <th>...</th>\n",
       "      <th>Suriname</th>\n",
       "      <th>Sweden</th>\n",
       "      <th>Switzerland</th>\n",
       "      <th>Syrian Arab Republic</th>\n",
       "      <th>Tajikistan</th>\n",
       "      <th>Tanzania</th>\n",
       "      <th>Thailand</th>\n",
       "      <th>Timor-Leste</th>\n",
       "      <th>Upper middle income</th>\n",
       "      <th>World</th>\n",
       "    </tr>\n",
       "    <tr>\n",
       "      <th>date</th>\n",
       "      <th></th>\n",
       "      <th></th>\n",
       "      <th></th>\n",
       "      <th></th>\n",
       "      <th></th>\n",
       "      <th></th>\n",
       "      <th></th>\n",
       "      <th></th>\n",
       "      <th></th>\n",
       "      <th></th>\n",
       "      <th></th>\n",
       "      <th></th>\n",
       "      <th></th>\n",
       "      <th></th>\n",
       "      <th></th>\n",
       "      <th></th>\n",
       "      <th></th>\n",
       "      <th></th>\n",
       "      <th></th>\n",
       "      <th></th>\n",
       "      <th></th>\n",
       "    </tr>\n",
       "  </thead>\n",
       "  <tbody>\n",
       "    <tr>\n",
       "      <th>2000</th>\n",
       "      <td>NaN</td>\n",
       "      <td>3.348574</td>\n",
       "      <td>3.731449</td>\n",
       "      <td>6.946217</td>\n",
       "      <td>3.800000</td>\n",
       "      <td>NaN</td>\n",
       "      <td>3.528362</td>\n",
       "      <td>3.054624</td>\n",
       "      <td>6.203431</td>\n",
       "      <td>6.587671</td>\n",
       "      <td>...</td>\n",
       "      <td>2.099999</td>\n",
       "      <td>4.766349</td>\n",
       "      <td>3.958720</td>\n",
       "      <td>0.675643</td>\n",
       "      <td>8.324324</td>\n",
       "      <td>4.520785</td>\n",
       "      <td>4.455247</td>\n",
       "      <td>NaN</td>\n",
       "      <td>6.342639</td>\n",
       "      <td>4.529039</td>\n",
       "    </tr>\n",
       "    <tr>\n",
       "      <th>2001</th>\n",
       "      <td>NaN</td>\n",
       "      <td>3.636553</td>\n",
       "      <td>5.203518</td>\n",
       "      <td>8.293313</td>\n",
       "      <td>3.000000</td>\n",
       "      <td>NaN</td>\n",
       "      <td>8.119358</td>\n",
       "      <td>4.205999</td>\n",
       "      <td>-4.548003</td>\n",
       "      <td>1.743116</td>\n",
       "      <td>...</td>\n",
       "      <td>4.200000</td>\n",
       "      <td>1.449499</td>\n",
       "      <td>1.575662</td>\n",
       "      <td>1.047287</td>\n",
       "      <td>9.580836</td>\n",
       "      <td>6.070808</td>\n",
       "      <td>3.444249</td>\n",
       "      <td>NaN</td>\n",
       "      <td>3.558296</td>\n",
       "      <td>2.027498</td>\n",
       "    </tr>\n",
       "    <tr>\n",
       "      <th>2002</th>\n",
       "      <td>NaN</td>\n",
       "      <td>3.928836</td>\n",
       "      <td>9.918281</td>\n",
       "      <td>4.536524</td>\n",
       "      <td>5.600000</td>\n",
       "      <td>NaN</td>\n",
       "      <td>4.546362</td>\n",
       "      <td>13.665689</td>\n",
       "      <td>1.027442</td>\n",
       "      <td>0.722965</td>\n",
       "      <td>...</td>\n",
       "      <td>2.800001</td>\n",
       "      <td>2.196921</td>\n",
       "      <td>-0.073217</td>\n",
       "      <td>3.954832</td>\n",
       "      <td>10.800004</td>\n",
       "      <td>7.093195</td>\n",
       "      <td>6.149036</td>\n",
       "      <td>NaN</td>\n",
       "      <td>4.652623</td>\n",
       "      <td>2.298720</td>\n",
       "    </tr>\n",
       "    <tr>\n",
       "      <th>2003</th>\n",
       "      <td>8.832278</td>\n",
       "      <td>3.106139</td>\n",
       "      <td>5.535575</td>\n",
       "      <td>5.528637</td>\n",
       "      <td>7.200000</td>\n",
       "      <td>0.965517</td>\n",
       "      <td>8.694204</td>\n",
       "      <td>2.990000</td>\n",
       "      <td>6.076544</td>\n",
       "      <td>4.915326</td>\n",
       "      <td>...</td>\n",
       "      <td>6.299999</td>\n",
       "      <td>2.309811</td>\n",
       "      <td>-0.032398</td>\n",
       "      <td>7.204435</td>\n",
       "      <td>10.999999</td>\n",
       "      <td>6.672790</td>\n",
       "      <td>7.189243</td>\n",
       "      <td>-2.182264</td>\n",
       "      <td>5.877625</td>\n",
       "      <td>3.105600</td>\n",
       "    </tr>\n",
       "    <tr>\n",
       "      <th>2004</th>\n",
       "      <td>1.414118</td>\n",
       "      <td>5.525631</td>\n",
       "      <td>7.996554</td>\n",
       "      <td>5.514668</td>\n",
       "      <td>4.300000</td>\n",
       "      <td>0.409836</td>\n",
       "      <td>8.135676</td>\n",
       "      <td>10.950000</td>\n",
       "      <td>5.767029</td>\n",
       "      <td>8.833924</td>\n",
       "      <td>...</td>\n",
       "      <td>8.500000</td>\n",
       "      <td>4.336856</td>\n",
       "      <td>2.701709</td>\n",
       "      <td>6.902959</td>\n",
       "      <td>10.299999</td>\n",
       "      <td>7.503815</td>\n",
       "      <td>6.289342</td>\n",
       "      <td>0.400004</td>\n",
       "      <td>7.926602</td>\n",
       "      <td>4.471494</td>\n",
       "    </tr>\n",
       "    <tr>\n",
       "      <th>2005</th>\n",
       "      <td>11.229715</td>\n",
       "      <td>6.131579</td>\n",
       "      <td>5.824941</td>\n",
       "      <td>5.526424</td>\n",
       "      <td>5.900000</td>\n",
       "      <td>-0.408163</td>\n",
       "      <td>5.397796</td>\n",
       "      <td>15.030000</td>\n",
       "      <td>6.473831</td>\n",
       "      <td>5.501931</td>\n",
       "      <td>...</td>\n",
       "      <td>4.500000</td>\n",
       "      <td>2.858803</td>\n",
       "      <td>2.749699</td>\n",
       "      <td>6.215078</td>\n",
       "      <td>6.699999</td>\n",
       "      <td>7.476319</td>\n",
       "      <td>4.187638</td>\n",
       "      <td>2.984580</td>\n",
       "      <td>7.597523</td>\n",
       "      <td>4.006678</td>\n",
       "    </tr>\n",
       "    <tr>\n",
       "      <th>2006</th>\n",
       "      <td>5.357403</td>\n",
       "      <td>6.575816</td>\n",
       "      <td>5.374564</td>\n",
       "      <td>5.902659</td>\n",
       "      <td>1.700000</td>\n",
       "      <td>-4.098361</td>\n",
       "      <td>4.808689</td>\n",
       "      <td>11.550000</td>\n",
       "      <td>12.708149</td>\n",
       "      <td>6.121662</td>\n",
       "      <td>...</td>\n",
       "      <td>5.793544</td>\n",
       "      <td>4.662774</td>\n",
       "      <td>4.073628</td>\n",
       "      <td>5.046196</td>\n",
       "      <td>7.000003</td>\n",
       "      <td>6.532221</td>\n",
       "      <td>4.967811</td>\n",
       "      <td>-4.116093</td>\n",
       "      <td>8.735478</td>\n",
       "      <td>4.440153</td>\n",
       "    </tr>\n",
       "    <tr>\n",
       "      <th>2007</th>\n",
       "      <td>13.826320</td>\n",
       "      <td>6.598625</td>\n",
       "      <td>5.524314</td>\n",
       "      <td>5.983260</td>\n",
       "      <td>3.400000</td>\n",
       "      <td>1.851852</td>\n",
       "      <td>1.553188</td>\n",
       "      <td>14.010000</td>\n",
       "      <td>9.315383</td>\n",
       "      <td>4.551005</td>\n",
       "      <td>...</td>\n",
       "      <td>5.111488</td>\n",
       "      <td>3.439222</td>\n",
       "      <td>3.916376</td>\n",
       "      <td>5.674592</td>\n",
       "      <td>7.800000</td>\n",
       "      <td>6.768535</td>\n",
       "      <td>5.435152</td>\n",
       "      <td>10.265388</td>\n",
       "      <td>9.429832</td>\n",
       "      <td>4.375429</td>\n",
       "    </tr>\n",
       "    <tr>\n",
       "      <th>2008</th>\n",
       "      <td>3.924984</td>\n",
       "      <td>4.329092</td>\n",
       "      <td>6.279592</td>\n",
       "      <td>7.500041</td>\n",
       "      <td>2.400000</td>\n",
       "      <td>-2.657343</td>\n",
       "      <td>-5.559186</td>\n",
       "      <td>11.170000</td>\n",
       "      <td>-0.014341</td>\n",
       "      <td>5.536045</td>\n",
       "      <td>...</td>\n",
       "      <td>4.143407</td>\n",
       "      <td>-0.450559</td>\n",
       "      <td>2.807984</td>\n",
       "      <td>4.476673</td>\n",
       "      <td>7.899998</td>\n",
       "      <td>5.686417</td>\n",
       "      <td>1.725699</td>\n",
       "      <td>11.394805</td>\n",
       "      <td>6.412844</td>\n",
       "      <td>2.063701</td>\n",
       "    </tr>\n",
       "    <tr>\n",
       "      <th>2009</th>\n",
       "      <td>21.390528</td>\n",
       "      <td>0.660371</td>\n",
       "      <td>6.284121</td>\n",
       "      <td>3.354289</td>\n",
       "      <td>1.600000</td>\n",
       "      <td>-4.166667</td>\n",
       "      <td>-5.302847</td>\n",
       "      <td>0.860000</td>\n",
       "      <td>-11.962697</td>\n",
       "      <td>0.360016</td>\n",
       "      <td>...</td>\n",
       "      <td>3.013699</td>\n",
       "      <td>-4.339791</td>\n",
       "      <td>-2.297375</td>\n",
       "      <td>5.912043</td>\n",
       "      <td>3.900001</td>\n",
       "      <td>5.269105</td>\n",
       "      <td>-0.690618</td>\n",
       "      <td>10.146954</td>\n",
       "      <td>2.664068</td>\n",
       "      <td>-1.364681</td>\n",
       "    </tr>\n",
       "    <tr>\n",
       "      <th>2010</th>\n",
       "      <td>14.362441</td>\n",
       "      <td>5.157237</td>\n",
       "      <td>6.969283</td>\n",
       "      <td>3.706938</td>\n",
       "      <td>3.600000</td>\n",
       "      <td>0.299850</td>\n",
       "      <td>-1.974958</td>\n",
       "      <td>4.398376</td>\n",
       "      <td>-7.840595</td>\n",
       "      <td>4.713733</td>\n",
       "      <td>...</td>\n",
       "      <td>5.168825</td>\n",
       "      <td>5.952107</td>\n",
       "      <td>3.243397</td>\n",
       "      <td>5.191906</td>\n",
       "      <td>6.499999</td>\n",
       "      <td>6.336523</td>\n",
       "      <td>7.513391</td>\n",
       "      <td>9.331512</td>\n",
       "      <td>8.308634</td>\n",
       "      <td>4.527807</td>\n",
       "    </tr>\n",
       "    <tr>\n",
       "      <th>2011</th>\n",
       "      <td>0.426355</td>\n",
       "      <td>3.701853</td>\n",
       "      <td>4.848814</td>\n",
       "      <td>2.545406</td>\n",
       "      <td>2.900000</td>\n",
       "      <td>0.000000</td>\n",
       "      <td>-0.008070</td>\n",
       "      <td>3.472053</td>\n",
       "      <td>-1.958613</td>\n",
       "      <td>3.432115</td>\n",
       "      <td>...</td>\n",
       "      <td>5.849368</td>\n",
       "      <td>3.195333</td>\n",
       "      <td>1.813108</td>\n",
       "      <td>2.850003</td>\n",
       "      <td>7.400001</td>\n",
       "      <td>7.672155</td>\n",
       "      <td>0.840132</td>\n",
       "      <td>5.958540</td>\n",
       "      <td>6.872086</td>\n",
       "      <td>3.316977</td>\n",
       "    </tr>\n",
       "    <tr>\n",
       "      <th>2012</th>\n",
       "      <td>12.752287</td>\n",
       "      <td>0.881674</td>\n",
       "      <td>5.136469</td>\n",
       "      <td>1.417243</td>\n",
       "      <td>3.400000</td>\n",
       "      <td>-4.334828</td>\n",
       "      <td>-4.974444</td>\n",
       "      <td>8.542107</td>\n",
       "      <td>1.439269</td>\n",
       "      <td>4.729945</td>\n",
       "      <td>...</td>\n",
       "      <td>2.690350</td>\n",
       "      <td>-0.588305</td>\n",
       "      <td>1.179254</td>\n",
       "      <td>-26.339017</td>\n",
       "      <td>7.499999</td>\n",
       "      <td>4.500154</td>\n",
       "      <td>7.242796</td>\n",
       "      <td>4.860622</td>\n",
       "      <td>5.913538</td>\n",
       "      <td>2.697704</td>\n",
       "    </tr>\n",
       "    <tr>\n",
       "      <th>2013</th>\n",
       "      <td>5.600745</td>\n",
       "      <td>4.216607</td>\n",
       "      <td>6.107013</td>\n",
       "      <td>1.002018</td>\n",
       "      <td>2.800000</td>\n",
       "      <td>-2.500000</td>\n",
       "      <td>-3.547597</td>\n",
       "      <td>4.954613</td>\n",
       "      <td>0.485932</td>\n",
       "      <td>2.618810</td>\n",
       "      <td>...</td>\n",
       "      <td>2.933442</td>\n",
       "      <td>1.187776</td>\n",
       "      <td>1.792144</td>\n",
       "      <td>-26.300088</td>\n",
       "      <td>7.400000</td>\n",
       "      <td>6.781586</td>\n",
       "      <td>2.687496</td>\n",
       "      <td>3.104367</td>\n",
       "      <td>5.531851</td>\n",
       "      <td>2.799702</td>\n",
       "    </tr>\n",
       "    <tr>\n",
       "      <th>2014</th>\n",
       "      <td>2.724543</td>\n",
       "      <td>4.007577</td>\n",
       "      <td>5.926266</td>\n",
       "      <td>1.774449</td>\n",
       "      <td>3.800000</td>\n",
       "      <td>1.762821</td>\n",
       "      <td>2.504466</td>\n",
       "      <td>4.822559</td>\n",
       "      <td>2.211453</td>\n",
       "      <td>2.433244</td>\n",
       "      <td>...</td>\n",
       "      <td>0.255503</td>\n",
       "      <td>2.657798</td>\n",
       "      <td>2.349881</td>\n",
       "      <td>-10.310340</td>\n",
       "      <td>6.700001</td>\n",
       "      <td>6.732462</td>\n",
       "      <td>0.984469</td>\n",
       "      <td>4.472498</td>\n",
       "      <td>4.705957</td>\n",
       "      <td>3.067008</td>\n",
       "    </tr>\n",
       "    <tr>\n",
       "      <th>2015</th>\n",
       "      <td>1.451315</td>\n",
       "      <td>2.965062</td>\n",
       "      <td>2.813543</td>\n",
       "      <td>2.218726</td>\n",
       "      <td>3.700000</td>\n",
       "      <td>3.149606</td>\n",
       "      <td>1.434140</td>\n",
       "      <td>0.943572</td>\n",
       "      <td>1.445155</td>\n",
       "      <td>3.443813</td>\n",
       "      <td>...</td>\n",
       "      <td>-3.411096</td>\n",
       "      <td>4.489282</td>\n",
       "      <td>1.644628</td>\n",
       "      <td>-4.179792</td>\n",
       "      <td>6.019303</td>\n",
       "      <td>6.160629</td>\n",
       "      <td>3.134047</td>\n",
       "      <td>2.797266</td>\n",
       "      <td>4.294246</td>\n",
       "      <td>3.069593</td>\n",
       "    </tr>\n",
       "    <tr>\n",
       "      <th>2016</th>\n",
       "      <td>2.260314</td>\n",
       "      <td>2.219015</td>\n",
       "      <td>0.142092</td>\n",
       "      <td>3.314981</td>\n",
       "      <td>3.200000</td>\n",
       "      <td>-1.679389</td>\n",
       "      <td>3.709678</td>\n",
       "      <td>-2.580111</td>\n",
       "      <td>4.099766</td>\n",
       "      <td>3.686091</td>\n",
       "      <td>...</td>\n",
       "      <td>-4.915786</td>\n",
       "      <td>2.070593</td>\n",
       "      <td>2.068690</td>\n",
       "      <td>-6.405591</td>\n",
       "      <td>6.900000</td>\n",
       "      <td>6.867116</td>\n",
       "      <td>3.435158</td>\n",
       "      <td>3.368175</td>\n",
       "      <td>4.215761</td>\n",
       "      <td>2.786757</td>\n",
       "    </tr>\n",
       "    <tr>\n",
       "      <th>2017</th>\n",
       "      <td>2.647003</td>\n",
       "      <td>2.571941</td>\n",
       "      <td>2.286270</td>\n",
       "      <td>3.802599</td>\n",
       "      <td>1.300000</td>\n",
       "      <td>-6.987578</td>\n",
       "      <td>0.346072</td>\n",
       "      <td>-0.147150</td>\n",
       "      <td>2.463333</td>\n",
       "      <td>1.239447</td>\n",
       "      <td>...</td>\n",
       "      <td>1.568398</td>\n",
       "      <td>2.567925</td>\n",
       "      <td>1.362800</td>\n",
       "      <td>-0.723282</td>\n",
       "      <td>7.100000</td>\n",
       "      <td>6.727270</td>\n",
       "      <td>4.177681</td>\n",
       "      <td>-3.144570</td>\n",
       "      <td>5.205582</td>\n",
       "      <td>3.396057</td>\n",
       "    </tr>\n",
       "    <tr>\n",
       "      <th>2018</th>\n",
       "      <td>1.189228</td>\n",
       "      <td>2.491355</td>\n",
       "      <td>2.838829</td>\n",
       "      <td>4.019346</td>\n",
       "      <td>1.200000</td>\n",
       "      <td>2.671119</td>\n",
       "      <td>1.588765</td>\n",
       "      <td>-1.316362</td>\n",
       "      <td>6.953186</td>\n",
       "      <td>2.438225</td>\n",
       "      <td>...</td>\n",
       "      <td>4.948271</td>\n",
       "      <td>1.950023</td>\n",
       "      <td>2.860446</td>\n",
       "      <td>1.393176</td>\n",
       "      <td>7.600000</td>\n",
       "      <td>5.502676</td>\n",
       "      <td>4.222870</td>\n",
       "      <td>-0.692801</td>\n",
       "      <td>4.938959</td>\n",
       "      <td>3.276283</td>\n",
       "    </tr>\n",
       "    <tr>\n",
       "      <th>2019</th>\n",
       "      <td>3.911603</td>\n",
       "      <td>2.040617</td>\n",
       "      <td>3.200919</td>\n",
       "      <td>2.087712</td>\n",
       "      <td>1.000000</td>\n",
       "      <td>-0.487805</td>\n",
       "      <td>2.015548</td>\n",
       "      <td>-0.702273</td>\n",
       "      <td>3.100445</td>\n",
       "      <td>1.359776</td>\n",
       "      <td>...</td>\n",
       "      <td>1.167590</td>\n",
       "      <td>1.986196</td>\n",
       "      <td>1.141982</td>\n",
       "      <td>1.220705</td>\n",
       "      <td>7.400000</td>\n",
       "      <td>5.800000</td>\n",
       "      <td>2.114558</td>\n",
       "      <td>23.412017</td>\n",
       "      <td>4.122023</td>\n",
       "      <td>2.590785</td>\n",
       "    </tr>\n",
       "    <tr>\n",
       "      <th>2020</th>\n",
       "      <td>-2.351101</td>\n",
       "      <td>-2.799038</td>\n",
       "      <td>-0.938162</td>\n",
       "      <td>-3.302082</td>\n",
       "      <td>-5.100000</td>\n",
       "      <td>4.411765</td>\n",
       "      <td>-11.183940</td>\n",
       "      <td>-5.638215</td>\n",
       "      <td>-18.880399</td>\n",
       "      <td>-5.048285</td>\n",
       "      <td>...</td>\n",
       "      <td>-15.975192</td>\n",
       "      <td>-2.170213</td>\n",
       "      <td>-2.141737</td>\n",
       "      <td>-0.182330</td>\n",
       "      <td>4.400000</td>\n",
       "      <td>1.991965</td>\n",
       "      <td>-6.066926</td>\n",
       "      <td>31.961919</td>\n",
       "      <td>-0.683348</td>\n",
       "      <td>-3.057810</td>\n",
       "    </tr>\n",
       "    <tr>\n",
       "      <th>2021</th>\n",
       "      <td>-20.738839</td>\n",
       "      <td>4.300441</td>\n",
       "      <td>3.976317</td>\n",
       "      <td>8.908528</td>\n",
       "      <td>3.400000</td>\n",
       "      <td>-0.782473</td>\n",
       "      <td>8.287200</td>\n",
       "      <td>1.199211</td>\n",
       "      <td>8.191718</td>\n",
       "      <td>3.732646</td>\n",
       "      <td>...</td>\n",
       "      <td>-2.435386</td>\n",
       "      <td>6.147025</td>\n",
       "      <td>5.391888</td>\n",
       "      <td>1.299738</td>\n",
       "      <td>9.400000</td>\n",
       "      <td>4.321384</td>\n",
       "      <td>1.492095</td>\n",
       "      <td>5.315537</td>\n",
       "      <td>7.584939</td>\n",
       "      <td>6.228594</td>\n",
       "    </tr>\n",
       "    <tr>\n",
       "      <th>2022</th>\n",
       "      <td>NaN</td>\n",
       "      <td>3.435138</td>\n",
       "      <td>3.766354</td>\n",
       "      <td>4.856402</td>\n",
       "      <td>3.200002</td>\n",
       "      <td>1.735016</td>\n",
       "      <td>8.809579</td>\n",
       "      <td>3.045403</td>\n",
       "      <td>9.516396</td>\n",
       "      <td>6.033833</td>\n",
       "      <td>...</td>\n",
       "      <td>2.433724</td>\n",
       "      <td>2.911772</td>\n",
       "      <td>2.568328</td>\n",
       "      <td>NaN</td>\n",
       "      <td>8.000000</td>\n",
       "      <td>4.558027</td>\n",
       "      <td>2.597644</td>\n",
       "      <td>-20.541587</td>\n",
       "      <td>3.123288</td>\n",
       "      <td>3.089379</td>\n",
       "    </tr>\n",
       "  </tbody>\n",
       "</table>\n",
       "<p>23 rows × 243 columns</p>\n",
       "</div>"
      ],
      "text/plain": [
       "country_name  Afghanistan  Africa Eastern and Southern  \\\n",
       "date                                                     \n",
       "2000                  NaN                     3.348574   \n",
       "2001                  NaN                     3.636553   \n",
       "2002                  NaN                     3.928836   \n",
       "2003             8.832278                     3.106139   \n",
       "2004             1.414118                     5.525631   \n",
       "2005            11.229715                     6.131579   \n",
       "2006             5.357403                     6.575816   \n",
       "2007            13.826320                     6.598625   \n",
       "2008             3.924984                     4.329092   \n",
       "2009            21.390528                     0.660371   \n",
       "2010            14.362441                     5.157237   \n",
       "2011             0.426355                     3.701853   \n",
       "2012            12.752287                     0.881674   \n",
       "2013             5.600745                     4.216607   \n",
       "2014             2.724543                     4.007577   \n",
       "2015             1.451315                     2.965062   \n",
       "2016             2.260314                     2.219015   \n",
       "2017             2.647003                     2.571941   \n",
       "2018             1.189228                     2.491355   \n",
       "2019             3.911603                     2.040617   \n",
       "2020            -2.351101                    -2.799038   \n",
       "2021           -20.738839                     4.300441   \n",
       "2022                  NaN                     3.435138   \n",
       "\n",
       "country_name  Africa Western and Central   Albania   Algeria  American Samoa  \\\n",
       "date                                                                           \n",
       "2000                            3.731449  6.946217  3.800000             NaN   \n",
       "2001                            5.203518  8.293313  3.000000             NaN   \n",
       "2002                            9.918281  4.536524  5.600000             NaN   \n",
       "2003                            5.535575  5.528637  7.200000        0.965517   \n",
       "2004                            7.996554  5.514668  4.300000        0.409836   \n",
       "2005                            5.824941  5.526424  5.900000       -0.408163   \n",
       "2006                            5.374564  5.902659  1.700000       -4.098361   \n",
       "2007                            5.524314  5.983260  3.400000        1.851852   \n",
       "2008                            6.279592  7.500041  2.400000       -2.657343   \n",
       "2009                            6.284121  3.354289  1.600000       -4.166667   \n",
       "2010                            6.969283  3.706938  3.600000        0.299850   \n",
       "2011                            4.848814  2.545406  2.900000        0.000000   \n",
       "2012                            5.136469  1.417243  3.400000       -4.334828   \n",
       "2013                            6.107013  1.002018  2.800000       -2.500000   \n",
       "2014                            5.926266  1.774449  3.800000        1.762821   \n",
       "2015                            2.813543  2.218726  3.700000        3.149606   \n",
       "2016                            0.142092  3.314981  3.200000       -1.679389   \n",
       "2017                            2.286270  3.802599  1.300000       -6.987578   \n",
       "2018                            2.838829  4.019346  1.200000        2.671119   \n",
       "2019                            3.200919  2.087712  1.000000       -0.487805   \n",
       "2020                           -0.938162 -3.302082 -5.100000        4.411765   \n",
       "2021                            3.976317  8.908528  3.400000       -0.782473   \n",
       "2022                            3.766354  4.856402  3.200002        1.735016   \n",
       "\n",
       "country_name    Andorra     Angola  Antigua and Barbuda  Arab World  ...  \\\n",
       "date                                                                 ...   \n",
       "2000           3.528362   3.054624             6.203431    6.587671  ...   \n",
       "2001           8.119358   4.205999            -4.548003    1.743116  ...   \n",
       "2002           4.546362  13.665689             1.027442    0.722965  ...   \n",
       "2003           8.694204   2.990000             6.076544    4.915326  ...   \n",
       "2004           8.135676  10.950000             5.767029    8.833924  ...   \n",
       "2005           5.397796  15.030000             6.473831    5.501931  ...   \n",
       "2006           4.808689  11.550000            12.708149    6.121662  ...   \n",
       "2007           1.553188  14.010000             9.315383    4.551005  ...   \n",
       "2008          -5.559186  11.170000            -0.014341    5.536045  ...   \n",
       "2009          -5.302847   0.860000           -11.962697    0.360016  ...   \n",
       "2010          -1.974958   4.398376            -7.840595    4.713733  ...   \n",
       "2011          -0.008070   3.472053            -1.958613    3.432115  ...   \n",
       "2012          -4.974444   8.542107             1.439269    4.729945  ...   \n",
       "2013          -3.547597   4.954613             0.485932    2.618810  ...   \n",
       "2014           2.504466   4.822559             2.211453    2.433244  ...   \n",
       "2015           1.434140   0.943572             1.445155    3.443813  ...   \n",
       "2016           3.709678  -2.580111             4.099766    3.686091  ...   \n",
       "2017           0.346072  -0.147150             2.463333    1.239447  ...   \n",
       "2018           1.588765  -1.316362             6.953186    2.438225  ...   \n",
       "2019           2.015548  -0.702273             3.100445    1.359776  ...   \n",
       "2020         -11.183940  -5.638215           -18.880399   -5.048285  ...   \n",
       "2021           8.287200   1.199211             8.191718    3.732646  ...   \n",
       "2022           8.809579   3.045403             9.516396    6.033833  ...   \n",
       "\n",
       "country_name   Suriname    Sweden  Switzerland  Syrian Arab Republic  \\\n",
       "date                                                                   \n",
       "2000           2.099999  4.766349     3.958720              0.675643   \n",
       "2001           4.200000  1.449499     1.575662              1.047287   \n",
       "2002           2.800001  2.196921    -0.073217              3.954832   \n",
       "2003           6.299999  2.309811    -0.032398              7.204435   \n",
       "2004           8.500000  4.336856     2.701709              6.902959   \n",
       "2005           4.500000  2.858803     2.749699              6.215078   \n",
       "2006           5.793544  4.662774     4.073628              5.046196   \n",
       "2007           5.111488  3.439222     3.916376              5.674592   \n",
       "2008           4.143407 -0.450559     2.807984              4.476673   \n",
       "2009           3.013699 -4.339791    -2.297375              5.912043   \n",
       "2010           5.168825  5.952107     3.243397              5.191906   \n",
       "2011           5.849368  3.195333     1.813108              2.850003   \n",
       "2012           2.690350 -0.588305     1.179254            -26.339017   \n",
       "2013           2.933442  1.187776     1.792144            -26.300088   \n",
       "2014           0.255503  2.657798     2.349881            -10.310340   \n",
       "2015          -3.411096  4.489282     1.644628             -4.179792   \n",
       "2016          -4.915786  2.070593     2.068690             -6.405591   \n",
       "2017           1.568398  2.567925     1.362800             -0.723282   \n",
       "2018           4.948271  1.950023     2.860446              1.393176   \n",
       "2019           1.167590  1.986196     1.141982              1.220705   \n",
       "2020         -15.975192 -2.170213    -2.141737             -0.182330   \n",
       "2021          -2.435386  6.147025     5.391888              1.299738   \n",
       "2022           2.433724  2.911772     2.568328                   NaN   \n",
       "\n",
       "country_name  Tajikistan  Tanzania  Thailand  Timor-Leste  \\\n",
       "date                                                        \n",
       "2000            8.324324  4.520785  4.455247          NaN   \n",
       "2001            9.580836  6.070808  3.444249          NaN   \n",
       "2002           10.800004  7.093195  6.149036          NaN   \n",
       "2003           10.999999  6.672790  7.189243    -2.182264   \n",
       "2004           10.299999  7.503815  6.289342     0.400004   \n",
       "2005            6.699999  7.476319  4.187638     2.984580   \n",
       "2006            7.000003  6.532221  4.967811    -4.116093   \n",
       "2007            7.800000  6.768535  5.435152    10.265388   \n",
       "2008            7.899998  5.686417  1.725699    11.394805   \n",
       "2009            3.900001  5.269105 -0.690618    10.146954   \n",
       "2010            6.499999  6.336523  7.513391     9.331512   \n",
       "2011            7.400001  7.672155  0.840132     5.958540   \n",
       "2012            7.499999  4.500154  7.242796     4.860622   \n",
       "2013            7.400000  6.781586  2.687496     3.104367   \n",
       "2014            6.700001  6.732462  0.984469     4.472498   \n",
       "2015            6.019303  6.160629  3.134047     2.797266   \n",
       "2016            6.900000  6.867116  3.435158     3.368175   \n",
       "2017            7.100000  6.727270  4.177681    -3.144570   \n",
       "2018            7.600000  5.502676  4.222870    -0.692801   \n",
       "2019            7.400000  5.800000  2.114558    23.412017   \n",
       "2020            4.400000  1.991965 -6.066926    31.961919   \n",
       "2021            9.400000  4.321384  1.492095     5.315537   \n",
       "2022            8.000000  4.558027  2.597644   -20.541587   \n",
       "\n",
       "country_name  Upper middle income     World  \n",
       "date                                         \n",
       "2000                     6.342639  4.529039  \n",
       "2001                     3.558296  2.027498  \n",
       "2002                     4.652623  2.298720  \n",
       "2003                     5.877625  3.105600  \n",
       "2004                     7.926602  4.471494  \n",
       "2005                     7.597523  4.006678  \n",
       "2006                     8.735478  4.440153  \n",
       "2007                     9.429832  4.375429  \n",
       "2008                     6.412844  2.063701  \n",
       "2009                     2.664068 -1.364681  \n",
       "2010                     8.308634  4.527807  \n",
       "2011                     6.872086  3.316977  \n",
       "2012                     5.913538  2.697704  \n",
       "2013                     5.531851  2.799702  \n",
       "2014                     4.705957  3.067008  \n",
       "2015                     4.294246  3.069593  \n",
       "2016                     4.215761  2.786757  \n",
       "2017                     5.205582  3.396057  \n",
       "2018                     4.938959  3.276283  \n",
       "2019                     4.122023  2.590785  \n",
       "2020                    -0.683348 -3.057810  \n",
       "2021                     7.584939  6.228594  \n",
       "2022                     3.123288  3.089379  \n",
       "\n",
       "[23 rows x 243 columns]"
      ]
     },
     "execution_count": 86,
     "metadata": {},
     "output_type": "execute_result"
    }
   ],
   "source": [
    "grp_growth_by_country = gdp_growth_df.pivot(index='date', columns='country_name', values='value')\n",
    "grp_growth_by_country"
   ]
  },
  {
   "cell_type": "markdown",
   "metadata": {
    "id": "IvQs3HEuo2s5"
   },
   "source": [
    "Посмотрим, для каких стран и объединений у нас есть данные"
   ]
  },
  {
   "cell_type": "code",
   "execution_count": 87,
   "metadata": {
    "id": "KQlmA6Iwo2s5",
    "scrolled": true
   },
   "outputs": [
    {
     "data": {
      "text/plain": [
       "['Afghanistan',\n",
       " 'Africa Eastern and Southern',\n",
       " 'Africa Western and Central',\n",
       " 'Albania',\n",
       " 'Algeria',\n",
       " 'American Samoa',\n",
       " 'Andorra',\n",
       " 'Angola',\n",
       " 'Antigua and Barbuda',\n",
       " 'Arab World',\n",
       " 'Argentina',\n",
       " 'Armenia',\n",
       " 'Aruba',\n",
       " 'Australia',\n",
       " 'Austria',\n",
       " 'Azerbaijan',\n",
       " 'Bahamas, The',\n",
       " 'Bahrain',\n",
       " 'Bangladesh',\n",
       " 'Barbados',\n",
       " 'Belarus',\n",
       " 'Belgium',\n",
       " 'Belize',\n",
       " 'Benin',\n",
       " 'Bermuda',\n",
       " 'Bhutan',\n",
       " 'Bolivia',\n",
       " 'Bosnia and Herzegovina',\n",
       " 'Botswana',\n",
       " 'Brazil',\n",
       " 'British Virgin Islands',\n",
       " 'Brunei Darussalam',\n",
       " 'Bulgaria',\n",
       " 'Burkina Faso',\n",
       " 'Burundi',\n",
       " 'Cabo Verde',\n",
       " 'Cambodia',\n",
       " 'Cameroon',\n",
       " 'Canada',\n",
       " 'Caribbean small states',\n",
       " 'Cayman Islands',\n",
       " 'Central African Republic',\n",
       " 'Central Europe and the Baltics',\n",
       " 'Chad',\n",
       " 'Channel Islands',\n",
       " 'Chile',\n",
       " 'China',\n",
       " 'Colombia',\n",
       " 'Comoros',\n",
       " 'Congo, Dem. Rep.',\n",
       " 'Congo, Rep.',\n",
       " 'Costa Rica',\n",
       " \"Cote d'Ivoire\",\n",
       " 'Croatia',\n",
       " 'Cuba',\n",
       " 'Curacao',\n",
       " 'Cyprus',\n",
       " 'Czechia',\n",
       " 'Denmark',\n",
       " 'Djibouti',\n",
       " 'Dominica',\n",
       " 'Dominican Republic',\n",
       " 'Early-demographic dividend',\n",
       " 'East Asia & Pacific',\n",
       " 'East Asia & Pacific (IDA & IBRD countries)',\n",
       " 'East Asia & Pacific (excluding high income)',\n",
       " 'Ecuador',\n",
       " 'Egypt, Arab Rep.',\n",
       " 'El Salvador',\n",
       " 'Equatorial Guinea',\n",
       " 'Eritrea',\n",
       " 'Estonia',\n",
       " 'Eswatini',\n",
       " 'Ethiopia',\n",
       " 'Euro area',\n",
       " 'Europe & Central Asia',\n",
       " 'Europe & Central Asia (IDA & IBRD countries)',\n",
       " 'Europe & Central Asia (excluding high income)',\n",
       " 'European Union',\n",
       " 'Faroe Islands',\n",
       " 'Fiji',\n",
       " 'Finland',\n",
       " 'Fragile and conflict affected situations',\n",
       " 'France',\n",
       " 'French Polynesia',\n",
       " 'Gabon',\n",
       " 'Gambia, The',\n",
       " 'Georgia',\n",
       " 'Germany',\n",
       " 'Ghana',\n",
       " 'Gibraltar',\n",
       " 'Greece',\n",
       " 'Greenland',\n",
       " 'Grenada',\n",
       " 'Guam',\n",
       " 'Guatemala',\n",
       " 'Guinea',\n",
       " 'Guinea-Bissau',\n",
       " 'Guyana',\n",
       " 'Haiti',\n",
       " 'Heavily indebted poor countries (HIPC)',\n",
       " 'High income',\n",
       " 'Honduras',\n",
       " 'Hong Kong SAR, China',\n",
       " 'Hungary',\n",
       " 'IBRD only',\n",
       " 'IDA & IBRD total',\n",
       " 'IDA blend',\n",
       " 'IDA only',\n",
       " 'IDA total',\n",
       " 'Iceland',\n",
       " 'India',\n",
       " 'Indonesia',\n",
       " 'Iran, Islamic Rep.',\n",
       " 'Iraq',\n",
       " 'Ireland',\n",
       " 'Isle of Man',\n",
       " 'Israel',\n",
       " 'Italy',\n",
       " 'Jamaica',\n",
       " 'Japan',\n",
       " 'Jordan',\n",
       " 'Kazakhstan',\n",
       " 'Kenya',\n",
       " 'Kiribati',\n",
       " \"Korea, Dem. People's Rep.\",\n",
       " 'Korea, Rep.',\n",
       " 'Kosovo',\n",
       " 'Kuwait',\n",
       " 'Kyrgyz Republic',\n",
       " 'Lao PDR',\n",
       " 'Late-demographic dividend',\n",
       " 'Latin America & Caribbean',\n",
       " 'Latin America & Caribbean (excluding high income)',\n",
       " 'Latin America & the Caribbean (IDA & IBRD countries)',\n",
       " 'Latvia',\n",
       " 'Least developed countries: UN classification',\n",
       " 'Lebanon',\n",
       " 'Lesotho',\n",
       " 'Liberia',\n",
       " 'Libya',\n",
       " 'Liechtenstein',\n",
       " 'Lithuania',\n",
       " 'Low & middle income',\n",
       " 'Low income',\n",
       " 'Lower middle income',\n",
       " 'Luxembourg',\n",
       " 'Macao SAR, China',\n",
       " 'Madagascar',\n",
       " 'Malawi',\n",
       " 'Malaysia',\n",
       " 'Maldives',\n",
       " 'Mali',\n",
       " 'Malta',\n",
       " 'Marshall Islands',\n",
       " 'Mauritania',\n",
       " 'Mauritius',\n",
       " 'Mexico',\n",
       " 'Micronesia, Fed. Sts.',\n",
       " 'Middle East & North Africa',\n",
       " 'Middle East & North Africa (IDA & IBRD countries)',\n",
       " 'Middle East & North Africa (excluding high income)',\n",
       " 'Middle income',\n",
       " 'Moldova',\n",
       " 'Monaco',\n",
       " 'Mongolia',\n",
       " 'Montenegro',\n",
       " 'Morocco',\n",
       " 'Mozambique',\n",
       " 'Myanmar',\n",
       " 'Namibia',\n",
       " 'Nauru',\n",
       " 'Nepal',\n",
       " 'Netherlands',\n",
       " 'New Caledonia',\n",
       " 'New Zealand',\n",
       " 'Nicaragua',\n",
       " 'Niger',\n",
       " 'Nigeria',\n",
       " 'North America',\n",
       " 'North Macedonia',\n",
       " 'Northern Mariana Islands',\n",
       " 'Norway',\n",
       " 'Not classified',\n",
       " 'OECD members',\n",
       " 'Oman',\n",
       " 'Other small states',\n",
       " 'Pacific island small states',\n",
       " 'Pakistan',\n",
       " 'Palau',\n",
       " 'Panama',\n",
       " 'Papua New Guinea',\n",
       " 'Paraguay',\n",
       " 'Peru',\n",
       " 'Philippines',\n",
       " 'Poland',\n",
       " 'Portugal',\n",
       " 'Post-demographic dividend',\n",
       " 'Pre-demographic dividend',\n",
       " 'Puerto Rico',\n",
       " 'Qatar',\n",
       " 'Romania',\n",
       " 'Russian Federation',\n",
       " 'Rwanda',\n",
       " 'Samoa',\n",
       " 'San Marino',\n",
       " 'Sao Tome and Principe',\n",
       " 'Saudi Arabia',\n",
       " 'Senegal',\n",
       " 'Serbia',\n",
       " 'Seychelles',\n",
       " 'Sierra Leone',\n",
       " 'Singapore',\n",
       " 'Sint Maarten (Dutch part)',\n",
       " 'Slovak Republic',\n",
       " 'Slovenia',\n",
       " 'Small states',\n",
       " 'Solomon Islands',\n",
       " 'Somalia',\n",
       " 'South Africa',\n",
       " 'South Asia',\n",
       " 'South Asia (IDA & IBRD)',\n",
       " 'South Sudan',\n",
       " 'Spain',\n",
       " 'Sri Lanka',\n",
       " 'St. Kitts and Nevis',\n",
       " 'St. Lucia',\n",
       " 'St. Martin (French part)',\n",
       " 'St. Vincent and the Grenadines',\n",
       " 'Sub-Saharan Africa',\n",
       " 'Sub-Saharan Africa (IDA & IBRD countries)',\n",
       " 'Sub-Saharan Africa (excluding high income)',\n",
       " 'Sudan',\n",
       " 'Suriname',\n",
       " 'Sweden',\n",
       " 'Switzerland',\n",
       " 'Syrian Arab Republic',\n",
       " 'Tajikistan',\n",
       " 'Tanzania',\n",
       " 'Thailand',\n",
       " 'Timor-Leste',\n",
       " 'Upper middle income',\n",
       " 'World']"
      ]
     },
     "execution_count": 87,
     "metadata": {},
     "output_type": "execute_result"
    }
   ],
   "source": [
    "grp_growth_by_country.columns.tolist()"
   ]
  },
  {
   "cell_type": "markdown",
   "metadata": {
    "id": "2RjjqOido2s5"
   },
   "source": [
    "Рассмотрим рост ВВП для групп стран по признаку географии (как [здесь](https://datatopics.worldbank.org/world-development-indicators/the-world-by-income-and-region.html))\n",
    "\n",
    "1. импортируем библиотеки для визуализации\n",
    "2. создадим словарь с нужными группами стран\n",
    "3. построим линейный график"
   ]
  },
  {
   "cell_type": "code",
   "execution_count": 88,
   "metadata": {
    "id": "FMhFTxEVo2s5",
    "scrolled": true
   },
   "outputs": [],
   "source": [
    "from matplotlib import pyplot as plt\n",
    "import seaborn as sns"
   ]
  },
  {
   "cell_type": "code",
   "execution_count": 68,
   "metadata": {
    "id": "Xc2BMisho2s5",
    "scrolled": true
   },
   "outputs": [],
   "source": [
    "country_group = ['North America'\n",
    "                , 'South Asia'\n",
    "                , 'Middle East & North Africa'\n",
    "                , 'Europe & Central Asia'\n",
    "                , 'Latin America & Caribbean'\n",
    "                , 'East Asia & Pacific']"
   ]
  },
  {
   "cell_type": "code",
   "execution_count": 89,
   "metadata": {
    "id": "KE0H49dCo2s6",
    "scrolled": true
   },
   "outputs": [
    {
     "data": {
      "image/png": "[encoded data removed]",
      "text/plain": [
       "<Figure size 1500x700 with 1 Axes>"
      ]
     },
     "metadata": {},
     "output_type": "display_data"
    }
   ],
   "source": [
    "plt.figure(figsize=(15,7))\n",
    "sns.lineplot(data=grp_growth_by_country[country_group], linewidth=3)\n",
    "plt.xlabel(\"Год\")\n",
    "plt.ylabel(\"Прирост ВВП год к году, %\");"
   ]
  },
  {
   "cell_type": "markdown",
   "metadata": {
    "id": "Y_AA6CSwo2s6"
   },
   "source": [
    " <center><img src=\"https://cdn.skyeng.ru/resources/image/skills/python/lesson1-1/3.png\" /> "
   ]
  },
  {
   "cell_type": "code",
   "execution_count": null,
   "metadata": {},
   "outputs": [],
   "source": []
  }
 ],
 "metadata": {
  "colab": {
   "name": "Skills_Python_5.2_lesson.ipynb",
   "provenance": []
  },
  "kernelspec": {
   "display_name": "Python 3 (ipykernel)",
   "language": "python",
   "name": "python3"
  },
  "language_info": {
   "codemirror_mode": {
    "name": "ipython",
    "version": 3
   },
   "file_extension": ".py",
   "mimetype": "text/x-python",
   "name": "python",
   "nbconvert_exporter": "python",
   "pygments_lexer": "ipython3",
   "version": "3.12.2"
  }
 },
 "nbformat": 4,
 "nbformat_minor": 1
}
